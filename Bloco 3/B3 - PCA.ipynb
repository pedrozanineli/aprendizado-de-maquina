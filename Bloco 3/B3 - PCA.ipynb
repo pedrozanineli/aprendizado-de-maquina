{
 "cells": [
  {
   "cell_type": "markdown",
   "id": "bc5cde9e-78f6-474a-be8a-a29edc94eb77",
   "metadata": {},
   "source": [
    "## Bloco 03"
   ]
  },
  {
   "cell_type": "markdown",
   "id": "9569a4ed-c109-4a6a-b7dc-394f5e6f3a4a",
   "metadata": {},
   "source": [
    "> ### Atividade 01 - PCA"
   ]
  },
  {
   "cell_type": "markdown",
   "id": "18f4ac6c-83e0-4da0-abd8-a0e467b2b694",
   "metadata": {},
   "source": [
    "<hr>"
   ]
  },
  {
   "cell_type": "markdown",
   "id": "da3d9f2f-7d12-4a5d-bbd9-3b62a2077138",
   "metadata": {},
   "source": [
    "**Informação Importante**\n",
    "<br> A partir desse momento, vamos mudar um pouco da nossa estratégia. Até aqui, trabalhamos com dois datasets: 'data.csv' e 'data_artigo.csv'. O primeiro continha dados advindos de análises estatísticas iniciais. Por sua vez, o segundo era composto por dados obtidos à partir de buscas na literatura científica em comparação com a nossa base de dados. Cada um dos nossos modelos e cada uma das nossas análises foram feitas com ambos e, a partir do resultado destes, pudemos perceber que um dos datasets oferecia mais vantagem do que o outro. Em outras palavras, usar os dados do 'data_artigo.csv' nos conferiu rasultados melhores nos dois blocos anteriores. \n",
    "<br> Encontramos duas justificativas plausíveis para essas diferenças. Vejamos a seguir:\n",
    "> 1. Havíamos definido no programa que um gene com maior expressão era um gene mais significantes. Todavia, essa definição poderia fazer com que perdessemos dados de muita relevância, já que elas não consideravam agentes que podem alterar tal expressão. Sob uma análise de cunho mais biológico,a taxa de expressão dos genes pode variar por diversos fatores, como a idade (que é um dos fatores que estamos estudadno) e, nesse contexto, ter um gene com baixa expressão não necessariamente significaria que ele não é significativo para a previsão. \n",
    "> 2. A segunda razão está mais vinculada à programação. Visualizamos que tanto no contexto de regressão, quanto no contexto de classificação, os resultados que obtivemos a partir dos artigos apresentarão maior precisão e coerência do que os resultados que envolviam o \"data.csv\".\n",
    "\n",
    "**Sendo assim, a partir do presente notebook faremos uso somente do \"data_artigo.csv\".**"
   ]
  },
  {
   "cell_type": "markdown",
   "id": "ed54e15b-c742-4b2f-91ee-546cb65e18b1",
   "metadata": {},
   "source": [
    "<hr>"
   ]
  },
  {
   "cell_type": "markdown",
   "id": "b311deeb-474c-44e8-8562-3063d0f7e0b6",
   "metadata": {},
   "source": [
    "**1. Redução de dimensionalidade**"
   ]
  },
  {
   "cell_type": "code",
   "execution_count": 1,
   "id": "7fd1503e-2377-4062-976f-5c6d7143432b",
   "metadata": {},
   "outputs": [],
   "source": [
    "import seaborn as sns\n",
    "import pandas as pd\n",
    "from sklearn.model_selection import train_test_split\n",
    "import numpy as np\n",
    "import seaborn as sns\n",
    "import pandas as pd\n",
    "from sklearn.preprocessing import StandardScaler\n",
    "from sklearn.decomposition import PCA\n",
    "import matplotlib.pyplot as plt\n",
    "import random\n",
    "\n",
    "# nossos dados já são normalizados\n",
    "# não precisamos organizar nossas features porque a ordem, no nosso caso, não faz tanta diferença"
   ]
  },
  {
   "cell_type": "code",
   "execution_count": 2,
   "id": "43009a6c-7a66-48e6-958b-2059678a01fb",
   "metadata": {},
   "outputs": [
    {
     "data": {
      "text/html": [
       "<div>\n",
       "<style scoped>\n",
       "    .dataframe tbody tr th:only-of-type {\n",
       "        vertical-align: middle;\n",
       "    }\n",
       "\n",
       "    .dataframe tbody tr th {\n",
       "        vertical-align: top;\n",
       "    }\n",
       "\n",
       "    .dataframe thead th {\n",
       "        text-align: right;\n",
       "    }\n",
       "</style>\n",
       "<table border=\"1\" class=\"dataframe\">\n",
       "  <thead>\n",
       "    <tr style=\"text-align: right;\">\n",
       "      <th></th>\n",
       "      <th>Amostra</th>\n",
       "      <th>Sexo</th>\n",
       "      <th>Categoria Idade</th>\n",
       "      <th>Idade</th>\n",
       "      <th>MMP1</th>\n",
       "      <th>MMP3</th>\n",
       "      <th>MMP9</th>\n",
       "      <th>MMP11</th>\n",
       "      <th>MMP24</th>\n",
       "      <th>MMP27</th>\n",
       "      <th>BARD1</th>\n",
       "      <th>BCL7C</th>\n",
       "      <th>CLPTM1L</th>\n",
       "      <th>TERT</th>\n",
       "      <th>CDKN1A</th>\n",
       "    </tr>\n",
       "  </thead>\n",
       "  <tbody>\n",
       "    <tr>\n",
       "      <th>0</th>\n",
       "      <td>GTEX-U8XE</td>\n",
       "      <td>male</td>\n",
       "      <td>Jovem</td>\n",
       "      <td>30-39</td>\n",
       "      <td>0.415301</td>\n",
       "      <td>1.959855e-02</td>\n",
       "      <td>0.609227</td>\n",
       "      <td>8.821049e-02</td>\n",
       "      <td>0.000014</td>\n",
       "      <td>0.851644</td>\n",
       "      <td>0.354668</td>\n",
       "      <td>0.472280</td>\n",
       "      <td>0.910613</td>\n",
       "      <td>0.456960</td>\n",
       "      <td>0.770863</td>\n",
       "    </tr>\n",
       "    <tr>\n",
       "      <th>1</th>\n",
       "      <td>GTEX-UPJH</td>\n",
       "      <td>male</td>\n",
       "      <td>Adulto</td>\n",
       "      <td>50-59</td>\n",
       "      <td>0.000005</td>\n",
       "      <td>7.996788e-03</td>\n",
       "      <td>0.159422</td>\n",
       "      <td>3.882611e-02</td>\n",
       "      <td>0.503206</td>\n",
       "      <td>0.168324</td>\n",
       "      <td>0.491779</td>\n",
       "      <td>0.604135</td>\n",
       "      <td>0.656658</td>\n",
       "      <td>0.020528</td>\n",
       "      <td>0.301729</td>\n",
       "    </tr>\n",
       "    <tr>\n",
       "      <th>2</th>\n",
       "      <td>GTEX-UPK5</td>\n",
       "      <td>male</td>\n",
       "      <td>Adulto</td>\n",
       "      <td>40-49</td>\n",
       "      <td>0.000000</td>\n",
       "      <td>7.149739e-03</td>\n",
       "      <td>0.000003</td>\n",
       "      <td>4.746163e-02</td>\n",
       "      <td>0.000003</td>\n",
       "      <td>0.310585</td>\n",
       "      <td>0.215032</td>\n",
       "      <td>0.536110</td>\n",
       "      <td>0.690726</td>\n",
       "      <td>0.000000</td>\n",
       "      <td>0.230042</td>\n",
       "    </tr>\n",
       "    <tr>\n",
       "      <th>3</th>\n",
       "      <td>GTEX-V1D1</td>\n",
       "      <td>male</td>\n",
       "      <td>Adulto</td>\n",
       "      <td>50-59</td>\n",
       "      <td>0.000000</td>\n",
       "      <td>0.000000e+00</td>\n",
       "      <td>0.062979</td>\n",
       "      <td>1.321471e-06</td>\n",
       "      <td>0.000034</td>\n",
       "      <td>0.523176</td>\n",
       "      <td>0.488843</td>\n",
       "      <td>0.430027</td>\n",
       "      <td>0.459522</td>\n",
       "      <td>0.183716</td>\n",
       "      <td>0.266740</td>\n",
       "    </tr>\n",
       "    <tr>\n",
       "      <th>4</th>\n",
       "      <td>GTEX-VJYA</td>\n",
       "      <td>male</td>\n",
       "      <td>Idoso</td>\n",
       "      <td>60-69</td>\n",
       "      <td>0.000000</td>\n",
       "      <td>1.969892e-02</td>\n",
       "      <td>0.329350</td>\n",
       "      <td>3.710575e-02</td>\n",
       "      <td>0.444207</td>\n",
       "      <td>0.744908</td>\n",
       "      <td>0.250793</td>\n",
       "      <td>0.411447</td>\n",
       "      <td>0.618432</td>\n",
       "      <td>0.223564</td>\n",
       "      <td>0.134728</td>\n",
       "    </tr>\n",
       "    <tr>\n",
       "      <th>...</th>\n",
       "      <td>...</td>\n",
       "      <td>...</td>\n",
       "      <td>...</td>\n",
       "      <td>...</td>\n",
       "      <td>...</td>\n",
       "      <td>...</td>\n",
       "      <td>...</td>\n",
       "      <td>...</td>\n",
       "      <td>...</td>\n",
       "      <td>...</td>\n",
       "      <td>...</td>\n",
       "      <td>...</td>\n",
       "      <td>...</td>\n",
       "      <td>...</td>\n",
       "      <td>...</td>\n",
       "    </tr>\n",
       "    <tr>\n",
       "      <th>105</th>\n",
       "      <td>GTEX-ZYVF</td>\n",
       "      <td>female</td>\n",
       "      <td>Adulto</td>\n",
       "      <td>50-59</td>\n",
       "      <td>0.000024</td>\n",
       "      <td>1.819350e-07</td>\n",
       "      <td>0.142913</td>\n",
       "      <td>2.020577e-02</td>\n",
       "      <td>0.000032</td>\n",
       "      <td>0.095750</td>\n",
       "      <td>0.363183</td>\n",
       "      <td>0.539107</td>\n",
       "      <td>0.547407</td>\n",
       "      <td>0.106089</td>\n",
       "      <td>0.242711</td>\n",
       "    </tr>\n",
       "    <tr>\n",
       "      <th>106</th>\n",
       "      <td>GTEX-ZYW4</td>\n",
       "      <td>male</td>\n",
       "      <td>Idoso</td>\n",
       "      <td>60-69</td>\n",
       "      <td>0.000023</td>\n",
       "      <td>5.150542e-03</td>\n",
       "      <td>0.168872</td>\n",
       "      <td>5.422500e-02</td>\n",
       "      <td>0.000013</td>\n",
       "      <td>0.103609</td>\n",
       "      <td>0.250000</td>\n",
       "      <td>0.706623</td>\n",
       "      <td>0.785079</td>\n",
       "      <td>0.312058</td>\n",
       "      <td>0.371003</td>\n",
       "    </tr>\n",
       "    <tr>\n",
       "      <th>107</th>\n",
       "      <td>GTEX-ZYY3</td>\n",
       "      <td>female</td>\n",
       "      <td>Idoso</td>\n",
       "      <td>60-69</td>\n",
       "      <td>0.000003</td>\n",
       "      <td>2.070253e-07</td>\n",
       "      <td>0.071373</td>\n",
       "      <td>8.591668e-07</td>\n",
       "      <td>0.000021</td>\n",
       "      <td>0.000006</td>\n",
       "      <td>0.754844</td>\n",
       "      <td>0.472580</td>\n",
       "      <td>0.506640</td>\n",
       "      <td>0.312230</td>\n",
       "      <td>0.363262</td>\n",
       "    </tr>\n",
       "    <tr>\n",
       "      <th>108</th>\n",
       "      <td>GTEX-ZZ64</td>\n",
       "      <td>male</td>\n",
       "      <td>Jovem</td>\n",
       "      <td>20-29</td>\n",
       "      <td>0.000001</td>\n",
       "      <td>3.753111e-02</td>\n",
       "      <td>0.185770</td>\n",
       "      <td>2.604149e-02</td>\n",
       "      <td>0.000039</td>\n",
       "      <td>0.289014</td>\n",
       "      <td>0.354081</td>\n",
       "      <td>0.503746</td>\n",
       "      <td>0.718097</td>\n",
       "      <td>0.037088</td>\n",
       "      <td>0.377036</td>\n",
       "    </tr>\n",
       "    <tr>\n",
       "      <th>109</th>\n",
       "      <td>GTEX-ZZPU</td>\n",
       "      <td>female</td>\n",
       "      <td>Adulto</td>\n",
       "      <td>50-59</td>\n",
       "      <td>0.000000</td>\n",
       "      <td>1.586110e-02</td>\n",
       "      <td>0.067426</td>\n",
       "      <td>1.959858e-02</td>\n",
       "      <td>0.502779</td>\n",
       "      <td>0.581716</td>\n",
       "      <td>0.288227</td>\n",
       "      <td>0.700330</td>\n",
       "      <td>0.666243</td>\n",
       "      <td>0.043816</td>\n",
       "      <td>0.166901</td>\n",
       "    </tr>\n",
       "  </tbody>\n",
       "</table>\n",
       "<p>110 rows × 15 columns</p>\n",
       "</div>"
      ],
      "text/plain": [
       "       Amostra    Sexo Categoria Idade  Idade      MMP1          MMP3  \\\n",
       "0    GTEX-U8XE    male           Jovem  30-39  0.415301  1.959855e-02   \n",
       "1    GTEX-UPJH    male          Adulto  50-59  0.000005  7.996788e-03   \n",
       "2    GTEX-UPK5    male          Adulto  40-49  0.000000  7.149739e-03   \n",
       "3    GTEX-V1D1    male          Adulto  50-59  0.000000  0.000000e+00   \n",
       "4    GTEX-VJYA    male           Idoso  60-69  0.000000  1.969892e-02   \n",
       "..         ...     ...             ...    ...       ...           ...   \n",
       "105  GTEX-ZYVF  female          Adulto  50-59  0.000024  1.819350e-07   \n",
       "106  GTEX-ZYW4    male           Idoso  60-69  0.000023  5.150542e-03   \n",
       "107  GTEX-ZYY3  female           Idoso  60-69  0.000003  2.070253e-07   \n",
       "108  GTEX-ZZ64    male           Jovem  20-29  0.000001  3.753111e-02   \n",
       "109  GTEX-ZZPU  female          Adulto  50-59  0.000000  1.586110e-02   \n",
       "\n",
       "         MMP9         MMP11     MMP24     MMP27     BARD1     BCL7C   CLPTM1L  \\\n",
       "0    0.609227  8.821049e-02  0.000014  0.851644  0.354668  0.472280  0.910613   \n",
       "1    0.159422  3.882611e-02  0.503206  0.168324  0.491779  0.604135  0.656658   \n",
       "2    0.000003  4.746163e-02  0.000003  0.310585  0.215032  0.536110  0.690726   \n",
       "3    0.062979  1.321471e-06  0.000034  0.523176  0.488843  0.430027  0.459522   \n",
       "4    0.329350  3.710575e-02  0.444207  0.744908  0.250793  0.411447  0.618432   \n",
       "..        ...           ...       ...       ...       ...       ...       ...   \n",
       "105  0.142913  2.020577e-02  0.000032  0.095750  0.363183  0.539107  0.547407   \n",
       "106  0.168872  5.422500e-02  0.000013  0.103609  0.250000  0.706623  0.785079   \n",
       "107  0.071373  8.591668e-07  0.000021  0.000006  0.754844  0.472580  0.506640   \n",
       "108  0.185770  2.604149e-02  0.000039  0.289014  0.354081  0.503746  0.718097   \n",
       "109  0.067426  1.959858e-02  0.502779  0.581716  0.288227  0.700330  0.666243   \n",
       "\n",
       "         TERT    CDKN1A  \n",
       "0    0.456960  0.770863  \n",
       "1    0.020528  0.301729  \n",
       "2    0.000000  0.230042  \n",
       "3    0.183716  0.266740  \n",
       "4    0.223564  0.134728  \n",
       "..        ...       ...  \n",
       "105  0.106089  0.242711  \n",
       "106  0.312058  0.371003  \n",
       "107  0.312230  0.363262  \n",
       "108  0.037088  0.377036  \n",
       "109  0.043816  0.166901  \n",
       "\n",
       "[110 rows x 15 columns]"
      ]
     },
     "execution_count": 2,
     "metadata": {},
     "output_type": "execute_result"
    }
   ],
   "source": [
    "df_art = pd.read_csv('data_artigo.csv')\n",
    "df_art = df_art.drop(\"Unnamed: 0\",axis=1)\n",
    "df_art"
   ]
  },
  {
   "cell_type": "code",
   "execution_count": 3,
   "id": "f83de990-61f0-436d-8a24-dce3dfcee11d",
   "metadata": {},
   "outputs": [],
   "source": [
    "# Substituindo os intervalos dos valores das idades para a média, a fim de obter os dados em valores numéricos - para o \"data.csv\"\n",
    "df_art['Idade']=df_art['Idade'].replace('20-29',random.randint(20, 29))\n",
    "df_art['Idade']=df_art['Idade'].replace('30-39',random.randint(30, 39))\n",
    "df_art['Idade']=df_art['Idade'].replace('40-49',random.randint(40, 49))\n",
    "df_art['Idade']=df_art['Idade'].replace('50-59',random.randint(50, 59))\n",
    "df_art['Idade']=df_art['Idade'].replace('60-69',random.randint(60, 69))\n",
    "df_art['Idade']=df_art['Idade'].replace('70-79',random.randint(70, 79))"
   ]
  },
  {
   "cell_type": "code",
   "execution_count": 4,
   "id": "7d217985-773b-44ff-8ace-e39782a4018d",
   "metadata": {},
   "outputs": [
    {
     "data": {
      "text/html": [
       "<div>\n",
       "<style scoped>\n",
       "    .dataframe tbody tr th:only-of-type {\n",
       "        vertical-align: middle;\n",
       "    }\n",
       "\n",
       "    .dataframe tbody tr th {\n",
       "        vertical-align: top;\n",
       "    }\n",
       "\n",
       "    .dataframe thead th {\n",
       "        text-align: right;\n",
       "    }\n",
       "</style>\n",
       "<table border=\"1\" class=\"dataframe\">\n",
       "  <thead>\n",
       "    <tr style=\"text-align: right;\">\n",
       "      <th></th>\n",
       "      <th>Amostra</th>\n",
       "      <th>Sexo</th>\n",
       "      <th>Categoria Idade</th>\n",
       "      <th>Idade</th>\n",
       "      <th>MMP1</th>\n",
       "      <th>MMP3</th>\n",
       "      <th>MMP9</th>\n",
       "      <th>MMP11</th>\n",
       "      <th>MMP24</th>\n",
       "      <th>MMP27</th>\n",
       "      <th>BARD1</th>\n",
       "      <th>BCL7C</th>\n",
       "      <th>CLPTM1L</th>\n",
       "      <th>TERT</th>\n",
       "      <th>CDKN1A</th>\n",
       "    </tr>\n",
       "  </thead>\n",
       "  <tbody>\n",
       "    <tr>\n",
       "      <th>0</th>\n",
       "      <td>GTEX-U8XE</td>\n",
       "      <td>male</td>\n",
       "      <td>Jovem</td>\n",
       "      <td>30</td>\n",
       "      <td>0.415301</td>\n",
       "      <td>0.019599</td>\n",
       "      <td>0.609227</td>\n",
       "      <td>0.088210</td>\n",
       "      <td>0.000014</td>\n",
       "      <td>0.851644</td>\n",
       "      <td>0.354668</td>\n",
       "      <td>0.472280</td>\n",
       "      <td>0.910613</td>\n",
       "      <td>0.456960</td>\n",
       "      <td>0.770863</td>\n",
       "    </tr>\n",
       "    <tr>\n",
       "      <th>1</th>\n",
       "      <td>GTEX-UPJH</td>\n",
       "      <td>male</td>\n",
       "      <td>Adulto</td>\n",
       "      <td>55</td>\n",
       "      <td>0.000005</td>\n",
       "      <td>0.007997</td>\n",
       "      <td>0.159422</td>\n",
       "      <td>0.038826</td>\n",
       "      <td>0.503206</td>\n",
       "      <td>0.168324</td>\n",
       "      <td>0.491779</td>\n",
       "      <td>0.604135</td>\n",
       "      <td>0.656658</td>\n",
       "      <td>0.020528</td>\n",
       "      <td>0.301729</td>\n",
       "    </tr>\n",
       "    <tr>\n",
       "      <th>2</th>\n",
       "      <td>GTEX-UPK5</td>\n",
       "      <td>male</td>\n",
       "      <td>Adulto</td>\n",
       "      <td>43</td>\n",
       "      <td>0.000000</td>\n",
       "      <td>0.007150</td>\n",
       "      <td>0.000003</td>\n",
       "      <td>0.047462</td>\n",
       "      <td>0.000003</td>\n",
       "      <td>0.310585</td>\n",
       "      <td>0.215032</td>\n",
       "      <td>0.536110</td>\n",
       "      <td>0.690726</td>\n",
       "      <td>0.000000</td>\n",
       "      <td>0.230042</td>\n",
       "    </tr>\n",
       "    <tr>\n",
       "      <th>3</th>\n",
       "      <td>GTEX-V1D1</td>\n",
       "      <td>male</td>\n",
       "      <td>Adulto</td>\n",
       "      <td>55</td>\n",
       "      <td>0.000000</td>\n",
       "      <td>0.000000</td>\n",
       "      <td>0.062979</td>\n",
       "      <td>0.000001</td>\n",
       "      <td>0.000034</td>\n",
       "      <td>0.523176</td>\n",
       "      <td>0.488843</td>\n",
       "      <td>0.430027</td>\n",
       "      <td>0.459522</td>\n",
       "      <td>0.183716</td>\n",
       "      <td>0.266740</td>\n",
       "    </tr>\n",
       "    <tr>\n",
       "      <th>4</th>\n",
       "      <td>GTEX-VJYA</td>\n",
       "      <td>male</td>\n",
       "      <td>Idoso</td>\n",
       "      <td>61</td>\n",
       "      <td>0.000000</td>\n",
       "      <td>0.019699</td>\n",
       "      <td>0.329350</td>\n",
       "      <td>0.037106</td>\n",
       "      <td>0.444207</td>\n",
       "      <td>0.744908</td>\n",
       "      <td>0.250793</td>\n",
       "      <td>0.411447</td>\n",
       "      <td>0.618432</td>\n",
       "      <td>0.223564</td>\n",
       "      <td>0.134728</td>\n",
       "    </tr>\n",
       "  </tbody>\n",
       "</table>\n",
       "</div>"
      ],
      "text/plain": [
       "     Amostra  Sexo Categoria Idade  Idade      MMP1      MMP3      MMP9  \\\n",
       "0  GTEX-U8XE  male           Jovem     30  0.415301  0.019599  0.609227   \n",
       "1  GTEX-UPJH  male          Adulto     55  0.000005  0.007997  0.159422   \n",
       "2  GTEX-UPK5  male          Adulto     43  0.000000  0.007150  0.000003   \n",
       "3  GTEX-V1D1  male          Adulto     55  0.000000  0.000000  0.062979   \n",
       "4  GTEX-VJYA  male           Idoso     61  0.000000  0.019699  0.329350   \n",
       "\n",
       "      MMP11     MMP24     MMP27     BARD1     BCL7C   CLPTM1L      TERT  \\\n",
       "0  0.088210  0.000014  0.851644  0.354668  0.472280  0.910613  0.456960   \n",
       "1  0.038826  0.503206  0.168324  0.491779  0.604135  0.656658  0.020528   \n",
       "2  0.047462  0.000003  0.310585  0.215032  0.536110  0.690726  0.000000   \n",
       "3  0.000001  0.000034  0.523176  0.488843  0.430027  0.459522  0.183716   \n",
       "4  0.037106  0.444207  0.744908  0.250793  0.411447  0.618432  0.223564   \n",
       "\n",
       "     CDKN1A  \n",
       "0  0.770863  \n",
       "1  0.301729  \n",
       "2  0.230042  \n",
       "3  0.266740  \n",
       "4  0.134728  "
      ]
     },
     "execution_count": 4,
     "metadata": {},
     "output_type": "execute_result"
    }
   ],
   "source": [
    "df_art.head()"
   ]
  },
  {
   "cell_type": "code",
   "execution_count": 5,
   "id": "9601f008-3d9b-41a9-ad12-6605eb556505",
   "metadata": {},
   "outputs": [
    {
     "data": {
      "text/html": [
       "<div>\n",
       "<style scoped>\n",
       "    .dataframe tbody tr th:only-of-type {\n",
       "        vertical-align: middle;\n",
       "    }\n",
       "\n",
       "    .dataframe tbody tr th {\n",
       "        vertical-align: top;\n",
       "    }\n",
       "\n",
       "    .dataframe thead th {\n",
       "        text-align: right;\n",
       "    }\n",
       "</style>\n",
       "<table border=\"1\" class=\"dataframe\">\n",
       "  <thead>\n",
       "    <tr style=\"text-align: right;\">\n",
       "      <th></th>\n",
       "      <th>Amostra</th>\n",
       "      <th>Sexo</th>\n",
       "      <th>Categoria Idade</th>\n",
       "      <th>Idade</th>\n",
       "      <th>MMP1</th>\n",
       "      <th>MMP3</th>\n",
       "      <th>MMP9</th>\n",
       "      <th>MMP11</th>\n",
       "      <th>MMP24</th>\n",
       "      <th>MMP27</th>\n",
       "      <th>BARD1</th>\n",
       "      <th>BCL7C</th>\n",
       "      <th>CLPTM1L</th>\n",
       "      <th>TERT</th>\n",
       "      <th>CDKN1A</th>\n",
       "    </tr>\n",
       "  </thead>\n",
       "  <tbody>\n",
       "    <tr>\n",
       "      <th>105</th>\n",
       "      <td>GTEX-ZYVF</td>\n",
       "      <td>female</td>\n",
       "      <td>Adulto</td>\n",
       "      <td>55</td>\n",
       "      <td>0.000024</td>\n",
       "      <td>1.819350e-07</td>\n",
       "      <td>0.142913</td>\n",
       "      <td>2.020577e-02</td>\n",
       "      <td>0.000032</td>\n",
       "      <td>0.095750</td>\n",
       "      <td>0.363183</td>\n",
       "      <td>0.539107</td>\n",
       "      <td>0.547407</td>\n",
       "      <td>0.106089</td>\n",
       "      <td>0.242711</td>\n",
       "    </tr>\n",
       "    <tr>\n",
       "      <th>106</th>\n",
       "      <td>GTEX-ZYW4</td>\n",
       "      <td>male</td>\n",
       "      <td>Idoso</td>\n",
       "      <td>61</td>\n",
       "      <td>0.000023</td>\n",
       "      <td>5.150542e-03</td>\n",
       "      <td>0.168872</td>\n",
       "      <td>5.422500e-02</td>\n",
       "      <td>0.000013</td>\n",
       "      <td>0.103609</td>\n",
       "      <td>0.250000</td>\n",
       "      <td>0.706623</td>\n",
       "      <td>0.785079</td>\n",
       "      <td>0.312058</td>\n",
       "      <td>0.371003</td>\n",
       "    </tr>\n",
       "    <tr>\n",
       "      <th>107</th>\n",
       "      <td>GTEX-ZYY3</td>\n",
       "      <td>female</td>\n",
       "      <td>Idoso</td>\n",
       "      <td>61</td>\n",
       "      <td>0.000003</td>\n",
       "      <td>2.070253e-07</td>\n",
       "      <td>0.071373</td>\n",
       "      <td>8.591668e-07</td>\n",
       "      <td>0.000021</td>\n",
       "      <td>0.000006</td>\n",
       "      <td>0.754844</td>\n",
       "      <td>0.472580</td>\n",
       "      <td>0.506640</td>\n",
       "      <td>0.312230</td>\n",
       "      <td>0.363262</td>\n",
       "    </tr>\n",
       "    <tr>\n",
       "      <th>108</th>\n",
       "      <td>GTEX-ZZ64</td>\n",
       "      <td>male</td>\n",
       "      <td>Jovem</td>\n",
       "      <td>24</td>\n",
       "      <td>0.000001</td>\n",
       "      <td>3.753111e-02</td>\n",
       "      <td>0.185770</td>\n",
       "      <td>2.604149e-02</td>\n",
       "      <td>0.000039</td>\n",
       "      <td>0.289014</td>\n",
       "      <td>0.354081</td>\n",
       "      <td>0.503746</td>\n",
       "      <td>0.718097</td>\n",
       "      <td>0.037088</td>\n",
       "      <td>0.377036</td>\n",
       "    </tr>\n",
       "    <tr>\n",
       "      <th>109</th>\n",
       "      <td>GTEX-ZZPU</td>\n",
       "      <td>female</td>\n",
       "      <td>Adulto</td>\n",
       "      <td>55</td>\n",
       "      <td>0.000000</td>\n",
       "      <td>1.586110e-02</td>\n",
       "      <td>0.067426</td>\n",
       "      <td>1.959858e-02</td>\n",
       "      <td>0.502779</td>\n",
       "      <td>0.581716</td>\n",
       "      <td>0.288227</td>\n",
       "      <td>0.700330</td>\n",
       "      <td>0.666243</td>\n",
       "      <td>0.043816</td>\n",
       "      <td>0.166901</td>\n",
       "    </tr>\n",
       "  </tbody>\n",
       "</table>\n",
       "</div>"
      ],
      "text/plain": [
       "       Amostra    Sexo Categoria Idade  Idade      MMP1          MMP3  \\\n",
       "105  GTEX-ZYVF  female          Adulto     55  0.000024  1.819350e-07   \n",
       "106  GTEX-ZYW4    male           Idoso     61  0.000023  5.150542e-03   \n",
       "107  GTEX-ZYY3  female           Idoso     61  0.000003  2.070253e-07   \n",
       "108  GTEX-ZZ64    male           Jovem     24  0.000001  3.753111e-02   \n",
       "109  GTEX-ZZPU  female          Adulto     55  0.000000  1.586110e-02   \n",
       "\n",
       "         MMP9         MMP11     MMP24     MMP27     BARD1     BCL7C   CLPTM1L  \\\n",
       "105  0.142913  2.020577e-02  0.000032  0.095750  0.363183  0.539107  0.547407   \n",
       "106  0.168872  5.422500e-02  0.000013  0.103609  0.250000  0.706623  0.785079   \n",
       "107  0.071373  8.591668e-07  0.000021  0.000006  0.754844  0.472580  0.506640   \n",
       "108  0.185770  2.604149e-02  0.000039  0.289014  0.354081  0.503746  0.718097   \n",
       "109  0.067426  1.959858e-02  0.502779  0.581716  0.288227  0.700330  0.666243   \n",
       "\n",
       "         TERT    CDKN1A  \n",
       "105  0.106089  0.242711  \n",
       "106  0.312058  0.371003  \n",
       "107  0.312230  0.363262  \n",
       "108  0.037088  0.377036  \n",
       "109  0.043816  0.166901  "
      ]
     },
     "execution_count": 5,
     "metadata": {},
     "output_type": "execute_result"
    }
   ],
   "source": [
    "df_art.tail()"
   ]
  },
  {
   "cell_type": "markdown",
   "id": "0ebffcb9-6404-48ea-928d-ab5061e2b6fc",
   "metadata": {},
   "source": [
    "Uma vez que é necessário utilizar tanto apenas os valores do dataframe quanto a variável com as colunas, criamos a variável `X` e `X_vals`"
   ]
  },
  {
   "cell_type": "code",
   "execution_count": 6,
   "id": "b6f0a6c4-3c29-4d06-b6b1-c4ee6800e364",
   "metadata": {},
   "outputs": [
    {
     "data": {
      "text/html": [
       "<div>\n",
       "<style scoped>\n",
       "    .dataframe tbody tr th:only-of-type {\n",
       "        vertical-align: middle;\n",
       "    }\n",
       "\n",
       "    .dataframe tbody tr th {\n",
       "        vertical-align: top;\n",
       "    }\n",
       "\n",
       "    .dataframe thead th {\n",
       "        text-align: right;\n",
       "    }\n",
       "</style>\n",
       "<table border=\"1\" class=\"dataframe\">\n",
       "  <thead>\n",
       "    <tr style=\"text-align: right;\">\n",
       "      <th></th>\n",
       "      <th>MMP1</th>\n",
       "      <th>MMP3</th>\n",
       "      <th>MMP9</th>\n",
       "      <th>MMP11</th>\n",
       "      <th>MMP24</th>\n",
       "      <th>MMP27</th>\n",
       "      <th>BARD1</th>\n",
       "      <th>BCL7C</th>\n",
       "      <th>CLPTM1L</th>\n",
       "      <th>TERT</th>\n",
       "      <th>CDKN1A</th>\n",
       "    </tr>\n",
       "  </thead>\n",
       "  <tbody>\n",
       "    <tr>\n",
       "      <th>0</th>\n",
       "      <td>0.415301</td>\n",
       "      <td>1.959855e-02</td>\n",
       "      <td>0.609227</td>\n",
       "      <td>8.821049e-02</td>\n",
       "      <td>0.000014</td>\n",
       "      <td>0.851644</td>\n",
       "      <td>0.354668</td>\n",
       "      <td>0.472280</td>\n",
       "      <td>0.910613</td>\n",
       "      <td>0.456960</td>\n",
       "      <td>0.770863</td>\n",
       "    </tr>\n",
       "    <tr>\n",
       "      <th>1</th>\n",
       "      <td>0.000005</td>\n",
       "      <td>7.996788e-03</td>\n",
       "      <td>0.159422</td>\n",
       "      <td>3.882611e-02</td>\n",
       "      <td>0.503206</td>\n",
       "      <td>0.168324</td>\n",
       "      <td>0.491779</td>\n",
       "      <td>0.604135</td>\n",
       "      <td>0.656658</td>\n",
       "      <td>0.020528</td>\n",
       "      <td>0.301729</td>\n",
       "    </tr>\n",
       "    <tr>\n",
       "      <th>2</th>\n",
       "      <td>0.000000</td>\n",
       "      <td>7.149739e-03</td>\n",
       "      <td>0.000003</td>\n",
       "      <td>4.746163e-02</td>\n",
       "      <td>0.000003</td>\n",
       "      <td>0.310585</td>\n",
       "      <td>0.215032</td>\n",
       "      <td>0.536110</td>\n",
       "      <td>0.690726</td>\n",
       "      <td>0.000000</td>\n",
       "      <td>0.230042</td>\n",
       "    </tr>\n",
       "    <tr>\n",
       "      <th>3</th>\n",
       "      <td>0.000000</td>\n",
       "      <td>0.000000e+00</td>\n",
       "      <td>0.062979</td>\n",
       "      <td>1.321471e-06</td>\n",
       "      <td>0.000034</td>\n",
       "      <td>0.523176</td>\n",
       "      <td>0.488843</td>\n",
       "      <td>0.430027</td>\n",
       "      <td>0.459522</td>\n",
       "      <td>0.183716</td>\n",
       "      <td>0.266740</td>\n",
       "    </tr>\n",
       "    <tr>\n",
       "      <th>4</th>\n",
       "      <td>0.000000</td>\n",
       "      <td>1.969892e-02</td>\n",
       "      <td>0.329350</td>\n",
       "      <td>3.710575e-02</td>\n",
       "      <td>0.444207</td>\n",
       "      <td>0.744908</td>\n",
       "      <td>0.250793</td>\n",
       "      <td>0.411447</td>\n",
       "      <td>0.618432</td>\n",
       "      <td>0.223564</td>\n",
       "      <td>0.134728</td>\n",
       "    </tr>\n",
       "    <tr>\n",
       "      <th>...</th>\n",
       "      <td>...</td>\n",
       "      <td>...</td>\n",
       "      <td>...</td>\n",
       "      <td>...</td>\n",
       "      <td>...</td>\n",
       "      <td>...</td>\n",
       "      <td>...</td>\n",
       "      <td>...</td>\n",
       "      <td>...</td>\n",
       "      <td>...</td>\n",
       "      <td>...</td>\n",
       "    </tr>\n",
       "    <tr>\n",
       "      <th>105</th>\n",
       "      <td>0.000024</td>\n",
       "      <td>1.819350e-07</td>\n",
       "      <td>0.142913</td>\n",
       "      <td>2.020577e-02</td>\n",
       "      <td>0.000032</td>\n",
       "      <td>0.095750</td>\n",
       "      <td>0.363183</td>\n",
       "      <td>0.539107</td>\n",
       "      <td>0.547407</td>\n",
       "      <td>0.106089</td>\n",
       "      <td>0.242711</td>\n",
       "    </tr>\n",
       "    <tr>\n",
       "      <th>106</th>\n",
       "      <td>0.000023</td>\n",
       "      <td>5.150542e-03</td>\n",
       "      <td>0.168872</td>\n",
       "      <td>5.422500e-02</td>\n",
       "      <td>0.000013</td>\n",
       "      <td>0.103609</td>\n",
       "      <td>0.250000</td>\n",
       "      <td>0.706623</td>\n",
       "      <td>0.785079</td>\n",
       "      <td>0.312058</td>\n",
       "      <td>0.371003</td>\n",
       "    </tr>\n",
       "    <tr>\n",
       "      <th>107</th>\n",
       "      <td>0.000003</td>\n",
       "      <td>2.070253e-07</td>\n",
       "      <td>0.071373</td>\n",
       "      <td>8.591668e-07</td>\n",
       "      <td>0.000021</td>\n",
       "      <td>0.000006</td>\n",
       "      <td>0.754844</td>\n",
       "      <td>0.472580</td>\n",
       "      <td>0.506640</td>\n",
       "      <td>0.312230</td>\n",
       "      <td>0.363262</td>\n",
       "    </tr>\n",
       "    <tr>\n",
       "      <th>108</th>\n",
       "      <td>0.000001</td>\n",
       "      <td>3.753111e-02</td>\n",
       "      <td>0.185770</td>\n",
       "      <td>2.604149e-02</td>\n",
       "      <td>0.000039</td>\n",
       "      <td>0.289014</td>\n",
       "      <td>0.354081</td>\n",
       "      <td>0.503746</td>\n",
       "      <td>0.718097</td>\n",
       "      <td>0.037088</td>\n",
       "      <td>0.377036</td>\n",
       "    </tr>\n",
       "    <tr>\n",
       "      <th>109</th>\n",
       "      <td>0.000000</td>\n",
       "      <td>1.586110e-02</td>\n",
       "      <td>0.067426</td>\n",
       "      <td>1.959858e-02</td>\n",
       "      <td>0.502779</td>\n",
       "      <td>0.581716</td>\n",
       "      <td>0.288227</td>\n",
       "      <td>0.700330</td>\n",
       "      <td>0.666243</td>\n",
       "      <td>0.043816</td>\n",
       "      <td>0.166901</td>\n",
       "    </tr>\n",
       "  </tbody>\n",
       "</table>\n",
       "<p>110 rows × 11 columns</p>\n",
       "</div>"
      ],
      "text/plain": [
       "         MMP1          MMP3      MMP9         MMP11     MMP24     MMP27  \\\n",
       "0    0.415301  1.959855e-02  0.609227  8.821049e-02  0.000014  0.851644   \n",
       "1    0.000005  7.996788e-03  0.159422  3.882611e-02  0.503206  0.168324   \n",
       "2    0.000000  7.149739e-03  0.000003  4.746163e-02  0.000003  0.310585   \n",
       "3    0.000000  0.000000e+00  0.062979  1.321471e-06  0.000034  0.523176   \n",
       "4    0.000000  1.969892e-02  0.329350  3.710575e-02  0.444207  0.744908   \n",
       "..        ...           ...       ...           ...       ...       ...   \n",
       "105  0.000024  1.819350e-07  0.142913  2.020577e-02  0.000032  0.095750   \n",
       "106  0.000023  5.150542e-03  0.168872  5.422500e-02  0.000013  0.103609   \n",
       "107  0.000003  2.070253e-07  0.071373  8.591668e-07  0.000021  0.000006   \n",
       "108  0.000001  3.753111e-02  0.185770  2.604149e-02  0.000039  0.289014   \n",
       "109  0.000000  1.586110e-02  0.067426  1.959858e-02  0.502779  0.581716   \n",
       "\n",
       "        BARD1     BCL7C   CLPTM1L      TERT    CDKN1A  \n",
       "0    0.354668  0.472280  0.910613  0.456960  0.770863  \n",
       "1    0.491779  0.604135  0.656658  0.020528  0.301729  \n",
       "2    0.215032  0.536110  0.690726  0.000000  0.230042  \n",
       "3    0.488843  0.430027  0.459522  0.183716  0.266740  \n",
       "4    0.250793  0.411447  0.618432  0.223564  0.134728  \n",
       "..        ...       ...       ...       ...       ...  \n",
       "105  0.363183  0.539107  0.547407  0.106089  0.242711  \n",
       "106  0.250000  0.706623  0.785079  0.312058  0.371003  \n",
       "107  0.754844  0.472580  0.506640  0.312230  0.363262  \n",
       "108  0.354081  0.503746  0.718097  0.037088  0.377036  \n",
       "109  0.288227  0.700330  0.666243  0.043816  0.166901  \n",
       "\n",
       "[110 rows x 11 columns]"
      ]
     },
     "execution_count": 6,
     "metadata": {},
     "output_type": "execute_result"
    }
   ],
   "source": [
    "X = df_art.reindex(df_art.columns[4:],axis=1)\n",
    "# da coluna quatro para a frente são os nossos genes e também as colunas de interesse\n",
    "\n",
    "X_vals = X.values\n",
    "X"
   ]
  },
  {
   "cell_type": "markdown",
   "id": "ef497a43-ecab-4ebb-8508-c2106717a183",
   "metadata": {},
   "source": [
    "<hr>"
   ]
  },
  {
   "cell_type": "markdown",
   "id": "b1248e72-8531-4d78-a221-13a65067527f",
   "metadata": {},
   "source": [
    "### PCA"
   ]
  },
  {
   "cell_type": "code",
   "execution_count": 7,
   "id": "68df29a7-0b5f-431f-8e0f-31f42f0c8503",
   "metadata": {},
   "outputs": [
    {
     "data": {
      "image/png": "[encoded data removed]",
      "text/plain": [
       "<Figure size 432x288 with 1 Axes>"
      ]
     },
     "metadata": {
      "needs_background": "light"
     },
     "output_type": "display_data"
    }
   ],
   "source": [
    "pca = PCA()\n",
    "pca.fit(X_vals)\n",
    "X_pca = pca.transform(X_vals)\n",
    "\n",
    "X_new = pca.inverse_transform(X_pca)\n",
    "#plt.scatter(X_vals[:, 0], X_vals[:, 1]) #, alpha=0.2)\n",
    "plt.scatter(X_pca[:, 0], X_pca[:, 1]) #, alpha=0.1)\n",
    "plt.xlabel('component 1')\n",
    "plt.ylabel('component 2')\n",
    "plt.axis('equal');\n",
    "plt.show()\n",
    "\n",
    "# gráfico da PCA configurando duas features aleatórias\n",
    "# achamos aqui as duas direções com maior variância\n",
    "# direções vem na ordem, PC1 tem maior variância\n",
    "# conversão linear"
   ]
  },
  {
   "cell_type": "code",
   "execution_count": 8,
   "id": "26d282c6-70f9-468d-819a-7dd881747404",
   "metadata": {},
   "outputs": [
    {
     "data": {
      "image/png": "[encoded data removed]",
      "text/plain": [
       "<Figure size 432x288 with 2 Axes>"
      ]
     },
     "metadata": {
      "needs_background": "light"
     },
     "output_type": "display_data"
    }
   ],
   "source": [
    "# vamos colorir agora o nosso gráfico de acordo com uma feature específica por nós definida\n",
    "# na verdade colorimos de acordo com o nosso target\n",
    "\n",
    "plt.scatter(X_pca[:, 0], X_pca[:, 1], edgecolor='none', alpha=0.5, c=df_art[\"Idade\"].values)\n",
    "plt.xlabel('component 1')\n",
    "plt.ylabel('component 2')\n",
    "plt.colorbar()\n",
    "plt.show()"
   ]
  },
  {
   "cell_type": "markdown",
   "id": "71118e42-1a53-4c83-9473-742b5a978a8c",
   "metadata": {},
   "source": [
    "Gráfico considerando as duas componentes principais."
   ]
  },
  {
   "cell_type": "markdown",
   "id": "1c0772c6-1aa5-4c9c-826a-22c410bd68e0",
   "metadata": {},
   "source": [
    "> Primeira divisão em clusters do nossos dados no Bloco 03. Vemos que temos grupos diferentes e eles estão divididos por idade. \n",
    "> <br>Vemos que se trata de dados diferentes, mas a divisão entre eles não é muito clara.\n",
    "> <br>Os dados estão bem espalhados, embora pareça haver maior concetração dos verde claro (50-55 anos) no canto inferior esquerdo.\n",
    "> Os dados que parecem ser mais predominantes são aqueles associados às maiores idades, de 40 para cima."
   ]
  },
  {
   "cell_type": "code",
   "execution_count": 9,
   "id": "26989071-8c83-43ef-ab4c-68809209aac6",
   "metadata": {},
   "outputs": [
    {
     "data": {
      "image/png": "[encoded data removed]",
      "text/plain": [
       "<Figure size 432x288 with 1 Axes>"
      ]
     },
     "metadata": {},
     "output_type": "display_data"
    }
   ],
   "source": [
    "from mpl_toolkits import mplot3d\n",
    "\n",
    "fig = plt.figure(facecolor = 'w')\n",
    "ax = plt.axes(projection='3d')\n",
    "ax.scatter3D(X_pca[:, 0], X_pca[:, 1], X_pca[:, 2], c=df_art[\"Idade\"].values)\n",
    "xlabel = ax.set_xlabel('component 1')\n",
    "ylabel = ax.set_ylabel('component 2')\n",
    "ylabel = ax.set_zlabel('component 3')\n",
    "plt.show()"
   ]
  },
  {
   "cell_type": "markdown",
   "id": "50f0b076-0270-42eb-b8a7-57a2f0dc3d9c",
   "metadata": {},
   "source": [
    "Gráfico considerando as três componentes principais."
   ]
  },
  {
   "cell_type": "markdown",
   "id": "671ba388-557c-4230-b6ee-f840efff08a3",
   "metadata": {},
   "source": [
    "> Para o desenvovlimento desse gráfico, estamos agora utilizando três componentes. Tendo como resultado, então, um gráfico de três dimensões.\n",
    "> Supostamente facilita a nossa visualização dos dados já que a divisão é \"mais clara\". Todavia, não parece muito melhor do que o gráfico anterior. Dessa maneira, talvez não seja tão vantajoso assim trabalhar para nós com mais uam componente."
   ]
  },
  {
   "cell_type": "markdown",
   "id": "b842641b-ffc7-4bba-b104-a0e052664b7b",
   "metadata": {},
   "source": [
    "<hr>"
   ]
  },
  {
   "cell_type": "markdown",
   "id": "3086d738-416c-41e1-8f2f-2f7e6e1c17ff",
   "metadata": {},
   "source": [
    "### ANÁLISE DA MATRIZ DE LOADINGS\n",
    "> Buscando compreender o que cada componente principal considerou quanto às *features* originais"
   ]
  },
  {
   "cell_type": "code",
   "execution_count": 10,
   "id": "6bfe9dff-c416-4462-a677-597f919ad28e",
   "metadata": {},
   "outputs": [
    {
     "data": {
      "text/html": [
       "<div>\n",
       "<style scoped>\n",
       "    .dataframe tbody tr th:only-of-type {\n",
       "        vertical-align: middle;\n",
       "    }\n",
       "\n",
       "    .dataframe tbody tr th {\n",
       "        vertical-align: top;\n",
       "    }\n",
       "\n",
       "    .dataframe thead th {\n",
       "        text-align: right;\n",
       "    }\n",
       "</style>\n",
       "<table border=\"1\" class=\"dataframe\">\n",
       "  <thead>\n",
       "    <tr style=\"text-align: right;\">\n",
       "      <th></th>\n",
       "      <th>PC1</th>\n",
       "      <th>PC2</th>\n",
       "      <th>PC3</th>\n",
       "      <th>PC4</th>\n",
       "      <th>PC5</th>\n",
       "      <th>PC6</th>\n",
       "      <th>PC7</th>\n",
       "      <th>PC8</th>\n",
       "      <th>PC9</th>\n",
       "      <th>PC10</th>\n",
       "      <th>PC11</th>\n",
       "    </tr>\n",
       "  </thead>\n",
       "  <tbody>\n",
       "    <tr>\n",
       "      <th>MMP1</th>\n",
       "      <td>0.517847</td>\n",
       "      <td>-0.075005</td>\n",
       "      <td>0.053235</td>\n",
       "      <td>0.358118</td>\n",
       "      <td>0.376301</td>\n",
       "      <td>-0.049861</td>\n",
       "      <td>0.276928</td>\n",
       "      <td>0.054666</td>\n",
       "      <td>-0.370031</td>\n",
       "      <td>-0.108067</td>\n",
       "      <td>-0.471973</td>\n",
       "    </tr>\n",
       "    <tr>\n",
       "      <th>MMP3</th>\n",
       "      <td>0.126310</td>\n",
       "      <td>-0.038212</td>\n",
       "      <td>-0.163574</td>\n",
       "      <td>0.149030</td>\n",
       "      <td>0.141333</td>\n",
       "      <td>-0.052699</td>\n",
       "      <td>0.465692</td>\n",
       "      <td>-0.096126</td>\n",
       "      <td>-0.043477</td>\n",
       "      <td>-0.370607</td>\n",
       "      <td>0.738592</td>\n",
       "    </tr>\n",
       "    <tr>\n",
       "      <th>MMP9</th>\n",
       "      <td>0.414063</td>\n",
       "      <td>0.130311</td>\n",
       "      <td>-0.031628</td>\n",
       "      <td>-0.049427</td>\n",
       "      <td>-0.160842</td>\n",
       "      <td>0.084154</td>\n",
       "      <td>0.403642</td>\n",
       "      <td>0.277159</td>\n",
       "      <td>0.677249</td>\n",
       "      <td>0.268560</td>\n",
       "      <td>-0.068124</td>\n",
       "    </tr>\n",
       "    <tr>\n",
       "      <th>MMP11</th>\n",
       "      <td>0.334351</td>\n",
       "      <td>-0.059619</td>\n",
       "      <td>0.173900</td>\n",
       "      <td>0.077451</td>\n",
       "      <td>0.496967</td>\n",
       "      <td>0.289233</td>\n",
       "      <td>-0.590866</td>\n",
       "      <td>0.150093</td>\n",
       "      <td>0.205057</td>\n",
       "      <td>0.051992</td>\n",
       "      <td>0.318404</td>\n",
       "    </tr>\n",
       "    <tr>\n",
       "      <th>MMP24</th>\n",
       "      <td>-0.241609</td>\n",
       "      <td>0.813929</td>\n",
       "      <td>0.188199</td>\n",
       "      <td>0.483125</td>\n",
       "      <td>0.074875</td>\n",
       "      <td>0.002807</td>\n",
       "      <td>-0.006320</td>\n",
       "      <td>0.020781</td>\n",
       "      <td>0.058948</td>\n",
       "      <td>-0.025189</td>\n",
       "      <td>0.011018</td>\n",
       "    </tr>\n",
       "    <tr>\n",
       "      <th>MMP27</th>\n",
       "      <td>0.420934</td>\n",
       "      <td>0.529231</td>\n",
       "      <td>-0.178706</td>\n",
       "      <td>-0.558279</td>\n",
       "      <td>-0.143408</td>\n",
       "      <td>0.194835</td>\n",
       "      <td>-0.093759</td>\n",
       "      <td>-0.061160</td>\n",
       "      <td>-0.322082</td>\n",
       "      <td>-0.153988</td>\n",
       "      <td>0.024738</td>\n",
       "    </tr>\n",
       "    <tr>\n",
       "      <th>BARD1</th>\n",
       "      <td>-0.096603</td>\n",
       "      <td>-0.129169</td>\n",
       "      <td>0.514526</td>\n",
       "      <td>0.028664</td>\n",
       "      <td>-0.238967</td>\n",
       "      <td>0.714096</td>\n",
       "      <td>0.251358</td>\n",
       "      <td>0.123398</td>\n",
       "      <td>-0.239087</td>\n",
       "      <td>0.026531</td>\n",
       "      <td>0.071498</td>\n",
       "    </tr>\n",
       "    <tr>\n",
       "      <th>BCL7C</th>\n",
       "      <td>-0.210442</td>\n",
       "      <td>0.009040</td>\n",
       "      <td>0.102844</td>\n",
       "      <td>-0.238281</td>\n",
       "      <td>0.125401</td>\n",
       "      <td>-0.156495</td>\n",
       "      <td>0.021489</td>\n",
       "      <td>0.772785</td>\n",
       "      <td>0.021039</td>\n",
       "      <td>-0.492394</td>\n",
       "      <td>-0.086655</td>\n",
       "    </tr>\n",
       "    <tr>\n",
       "      <th>CLPTM1L</th>\n",
       "      <td>-0.025473</td>\n",
       "      <td>0.066259</td>\n",
       "      <td>0.006327</td>\n",
       "      <td>-0.076746</td>\n",
       "      <td>0.109077</td>\n",
       "      <td>-0.256646</td>\n",
       "      <td>0.110017</td>\n",
       "      <td>0.385713</td>\n",
       "      <td>-0.416434</td>\n",
       "      <td>0.700645</td>\n",
       "      <td>0.293372</td>\n",
       "    </tr>\n",
       "    <tr>\n",
       "      <th>TERT</th>\n",
       "      <td>0.096160</td>\n",
       "      <td>0.045244</td>\n",
       "      <td>0.749435</td>\n",
       "      <td>-0.339094</td>\n",
       "      <td>0.139192</td>\n",
       "      <td>-0.416916</td>\n",
       "      <td>0.116155</td>\n",
       "      <td>-0.304973</td>\n",
       "      <td>0.098776</td>\n",
       "      <td>-0.028511</td>\n",
       "      <td>0.042490</td>\n",
       "    </tr>\n",
       "    <tr>\n",
       "      <th>CDKN1A</th>\n",
       "      <td>0.365469</td>\n",
       "      <td>-0.081301</td>\n",
       "      <td>0.186564</td>\n",
       "      <td>0.342842</td>\n",
       "      <td>-0.659774</td>\n",
       "      <td>-0.303184</td>\n",
       "      <td>-0.310361</td>\n",
       "      <td>0.173343</td>\n",
       "      <td>-0.111721</td>\n",
       "      <td>-0.130099</td>\n",
       "      <td>0.156443</td>\n",
       "    </tr>\n",
       "  </tbody>\n",
       "</table>\n",
       "</div>"
      ],
      "text/plain": [
       "              PC1       PC2       PC3       PC4       PC5       PC6       PC7  \\\n",
       "MMP1     0.517847 -0.075005  0.053235  0.358118  0.376301 -0.049861  0.276928   \n",
       "MMP3     0.126310 -0.038212 -0.163574  0.149030  0.141333 -0.052699  0.465692   \n",
       "MMP9     0.414063  0.130311 -0.031628 -0.049427 -0.160842  0.084154  0.403642   \n",
       "MMP11    0.334351 -0.059619  0.173900  0.077451  0.496967  0.289233 -0.590866   \n",
       "MMP24   -0.241609  0.813929  0.188199  0.483125  0.074875  0.002807 -0.006320   \n",
       "MMP27    0.420934  0.529231 -0.178706 -0.558279 -0.143408  0.194835 -0.093759   \n",
       "BARD1   -0.096603 -0.129169  0.514526  0.028664 -0.238967  0.714096  0.251358   \n",
       "BCL7C   -0.210442  0.009040  0.102844 -0.238281  0.125401 -0.156495  0.021489   \n",
       "CLPTM1L -0.025473  0.066259  0.006327 -0.076746  0.109077 -0.256646  0.110017   \n",
       "TERT     0.096160  0.045244  0.749435 -0.339094  0.139192 -0.416916  0.116155   \n",
       "CDKN1A   0.365469 -0.081301  0.186564  0.342842 -0.659774 -0.303184 -0.310361   \n",
       "\n",
       "              PC8       PC9      PC10      PC11  \n",
       "MMP1     0.054666 -0.370031 -0.108067 -0.471973  \n",
       "MMP3    -0.096126 -0.043477 -0.370607  0.738592  \n",
       "MMP9     0.277159  0.677249  0.268560 -0.068124  \n",
       "MMP11    0.150093  0.205057  0.051992  0.318404  \n",
       "MMP24    0.020781  0.058948 -0.025189  0.011018  \n",
       "MMP27   -0.061160 -0.322082 -0.153988  0.024738  \n",
       "BARD1    0.123398 -0.239087  0.026531  0.071498  \n",
       "BCL7C    0.772785  0.021039 -0.492394 -0.086655  \n",
       "CLPTM1L  0.385713 -0.416434  0.700645  0.293372  \n",
       "TERT    -0.304973  0.098776 -0.028511  0.042490  \n",
       "CDKN1A   0.173343 -0.111721 -0.130099  0.156443  "
      ]
     },
     "execution_count": 10,
     "metadata": {},
     "output_type": "execute_result"
    }
   ],
   "source": [
    "component_names = [f\"PC{i+1}\" for i in range(X_pca.shape[1])]\n",
    "X_pca = pd.DataFrame(X_pca, columns=component_names)\n",
    "X_pca.head()\n",
    "\n",
    "loadings = pd.DataFrame(\n",
    "    pca.components_.T,  # transpostas\n",
    "    columns=component_names,  # colunas como componentes principais\n",
    "    index=X.columns,  # as linhas são as features originais\n",
    ")\n",
    "loadings"
   ]
  },
  {
   "cell_type": "markdown",
   "id": "540d4eca-ce0b-407e-b337-0f705b9067d2",
   "metadata": {},
   "source": [
    "**Análise Inicial**\n",
    "<br> Aparentemente, PC1 foi mais relevante para:\n",
    "- MMP1\n",
    "- MMP27\n",
    "- MMP9\n",
    "\n",
    "Por sua vez, PC2 foi mais relevante para as seguintes features:\n",
    "- MMP24\n",
    "- MMP27\n",
    "\n",
    "PC3 foi então mais relevante para as seguintes features:\n",
    "- TERT\n",
    "- BARD1"
   ]
  },
  {
   "cell_type": "markdown",
   "id": "235ede7e-94c6-48ff-af99-64f18ae05deb",
   "metadata": {},
   "source": [
    "<hr>"
   ]
  },
  {
   "cell_type": "markdown",
   "id": "49d973dc-5911-478f-b8e8-95afe53ec2a2",
   "metadata": {},
   "source": [
    "### ANÁLISE DAS VARIÂNCIAS\n",
    " > *Vamos antes entender o que cada uma das variâncias está nos contando:*\n",
    "> <br>**Variância explicada**: mede bem basicamente o quanto dos dados são **explicados** com cada componente principal. Em outras palavras 'o quanto de sua amostra está sendo **representada** com cada componente principal'.\n",
    "> <br>**Variância acumulada**: quanto de dados temos com cada uma das componentes;"
   ]
  },
  {
   "cell_type": "code",
   "execution_count": 11,
   "id": "7bf29bdd-45a9-4728-b706-7f2522ba10db",
   "metadata": {},
   "outputs": [
    {
     "data": {
      "image/png": "[encoded data removed]",
      "text/plain": [
       "<Figure size 800x400 with 2 Axes>"
      ]
     },
     "metadata": {
      "needs_background": "light"
     },
     "output_type": "display_data"
    }
   ],
   "source": [
    "def plot_variance(pca, width=8, dpi=100):\n",
    "    # Criar figura\n",
    "    fig, axs = plt.subplots(1, 2)\n",
    "    n = pca.n_components_\n",
    "    grid = np.arange(1, n + 1)\n",
    "    \n",
    "    # Fazer o cálculo da variância explicada\n",
    "    evr = pca.explained_variance_ratio_\n",
    "    axs[0].bar(grid, evr)\n",
    "    axs[0].set(\n",
    "        xlabel=\"Componente\", \n",
    "        title=\"Variancia explicada\", \n",
    "        ylim=(0.0, 1.0)\n",
    "    )\n",
    "    \n",
    "    # Variância acumulada\n",
    "    cv = np.cumsum(evr)\n",
    "    axs[1].plot(np.r_[0, grid], np.r_[0, cv], \"o-\")\n",
    "    axs[1].set(\n",
    "        xlabel=\"Componente\", \n",
    "        title=\"Variância acumulada\", \n",
    "        ylim=(0.0, 1.0)\n",
    "    )\n",
    "    \n",
    "    # Detalhes da figura\n",
    "    fig.set(figwidth=8, dpi=100)\n",
    "    return axs\n",
    "\n",
    "# Graficar\n",
    "plot_variance(pca)\n",
    "plt.show()"
   ]
  },
  {
   "cell_type": "markdown",
   "id": "57291a0a-8c1b-4e18-b459-f1b21919fc6e",
   "metadata": {},
   "source": [
    "**Anotações da conversa com o Dani**:\n",
    "- Reduzir dimensionalidade implica na perda de dados;\n",
    "- PCA nos permite avaliar até onde estamos dispostos a perder dados em prol de reduzir dimensões;\n",
    "- As componentes são combinações das features;\n",
    "- Fazer a redução costuma ser bom para termos previsões mais precisas, por exemplo, a depender da situação;\n",
    "- Nossos dados parecem estar distribuidos entre as componentes;\n",
    "- Perderíamos poucos dados se eliminássemos somente a componente 11, por exemplo;\n",
    "\n",
    "**Conclusão**\n",
    "> Talvez não seja tão vanatajoso assim reduzirmos em muitas dimensões os nossos dados. Sendo assim, aparentemente, 10 seria um bom número de componentes para nós;\n",
    "> <br>Mas sabemos que também não conseguiríamos plotar em 11 dimensões;"
   ]
  },
  {
   "cell_type": "markdown",
   "id": "35fcbd10-5734-4364-8bd9-cd53f8fc16a5",
   "metadata": {},
   "source": [
    "<HR>\n",
    "    "
   ]
  },
  {
   "cell_type": "markdown",
   "id": "8a20dad0-2a11-4973-9548-f9da3ef25ba1",
   "metadata": {},
   "source": [
    "### REDUÇÃO DE DIMENSIONALIDADE PARA FEATURES"
   ]
  },
  {
   "cell_type": "code",
   "execution_count": 12,
   "id": "2e4ee18b-4efe-41dd-8dd8-9e77fa407460",
   "metadata": {
    "tags": []
   },
   "outputs": [
    {
     "data": {
      "text/html": [
       "<div>\n",
       "<style scoped>\n",
       "    .dataframe tbody tr th:only-of-type {\n",
       "        vertical-align: middle;\n",
       "    }\n",
       "\n",
       "    .dataframe tbody tr th {\n",
       "        vertical-align: top;\n",
       "    }\n",
       "\n",
       "    .dataframe thead th {\n",
       "        text-align: right;\n",
       "    }\n",
       "</style>\n",
       "<table border=\"1\" class=\"dataframe\">\n",
       "  <thead>\n",
       "    <tr style=\"text-align: right;\">\n",
       "      <th></th>\n",
       "      <th>Amostra</th>\n",
       "      <th>Sexo</th>\n",
       "      <th>Categoria Idade</th>\n",
       "      <th>Idade</th>\n",
       "      <th>MMP1</th>\n",
       "      <th>MMP3</th>\n",
       "      <th>MMP9</th>\n",
       "      <th>MMP11</th>\n",
       "      <th>MMP24</th>\n",
       "      <th>MMP27</th>\n",
       "      <th>BARD1</th>\n",
       "      <th>BCL7C</th>\n",
       "      <th>CLPTM1L</th>\n",
       "      <th>TERT</th>\n",
       "      <th>CDKN1A</th>\n",
       "    </tr>\n",
       "  </thead>\n",
       "  <tbody>\n",
       "    <tr>\n",
       "      <th>0</th>\n",
       "      <td>GTEX-U8XE</td>\n",
       "      <td>male</td>\n",
       "      <td>Jovem</td>\n",
       "      <td>30</td>\n",
       "      <td>0.415301</td>\n",
       "      <td>1.959855e-02</td>\n",
       "      <td>0.609227</td>\n",
       "      <td>8.821049e-02</td>\n",
       "      <td>0.000014</td>\n",
       "      <td>0.851644</td>\n",
       "      <td>0.354668</td>\n",
       "      <td>0.472280</td>\n",
       "      <td>0.910613</td>\n",
       "      <td>0.456960</td>\n",
       "      <td>0.770863</td>\n",
       "    </tr>\n",
       "    <tr>\n",
       "      <th>1</th>\n",
       "      <td>GTEX-UPJH</td>\n",
       "      <td>male</td>\n",
       "      <td>Adulto</td>\n",
       "      <td>55</td>\n",
       "      <td>0.000005</td>\n",
       "      <td>7.996788e-03</td>\n",
       "      <td>0.159422</td>\n",
       "      <td>3.882611e-02</td>\n",
       "      <td>0.503206</td>\n",
       "      <td>0.168324</td>\n",
       "      <td>0.491779</td>\n",
       "      <td>0.604135</td>\n",
       "      <td>0.656658</td>\n",
       "      <td>0.020528</td>\n",
       "      <td>0.301729</td>\n",
       "    </tr>\n",
       "    <tr>\n",
       "      <th>2</th>\n",
       "      <td>GTEX-UPK5</td>\n",
       "      <td>male</td>\n",
       "      <td>Adulto</td>\n",
       "      <td>43</td>\n",
       "      <td>0.000000</td>\n",
       "      <td>7.149739e-03</td>\n",
       "      <td>0.000003</td>\n",
       "      <td>4.746163e-02</td>\n",
       "      <td>0.000003</td>\n",
       "      <td>0.310585</td>\n",
       "      <td>0.215032</td>\n",
       "      <td>0.536110</td>\n",
       "      <td>0.690726</td>\n",
       "      <td>0.000000</td>\n",
       "      <td>0.230042</td>\n",
       "    </tr>\n",
       "    <tr>\n",
       "      <th>3</th>\n",
       "      <td>GTEX-V1D1</td>\n",
       "      <td>male</td>\n",
       "      <td>Adulto</td>\n",
       "      <td>55</td>\n",
       "      <td>0.000000</td>\n",
       "      <td>0.000000e+00</td>\n",
       "      <td>0.062979</td>\n",
       "      <td>1.321471e-06</td>\n",
       "      <td>0.000034</td>\n",
       "      <td>0.523176</td>\n",
       "      <td>0.488843</td>\n",
       "      <td>0.430027</td>\n",
       "      <td>0.459522</td>\n",
       "      <td>0.183716</td>\n",
       "      <td>0.266740</td>\n",
       "    </tr>\n",
       "    <tr>\n",
       "      <th>4</th>\n",
       "      <td>GTEX-VJYA</td>\n",
       "      <td>male</td>\n",
       "      <td>Idoso</td>\n",
       "      <td>61</td>\n",
       "      <td>0.000000</td>\n",
       "      <td>1.969892e-02</td>\n",
       "      <td>0.329350</td>\n",
       "      <td>3.710575e-02</td>\n",
       "      <td>0.444207</td>\n",
       "      <td>0.744908</td>\n",
       "      <td>0.250793</td>\n",
       "      <td>0.411447</td>\n",
       "      <td>0.618432</td>\n",
       "      <td>0.223564</td>\n",
       "      <td>0.134728</td>\n",
       "    </tr>\n",
       "    <tr>\n",
       "      <th>...</th>\n",
       "      <td>...</td>\n",
       "      <td>...</td>\n",
       "      <td>...</td>\n",
       "      <td>...</td>\n",
       "      <td>...</td>\n",
       "      <td>...</td>\n",
       "      <td>...</td>\n",
       "      <td>...</td>\n",
       "      <td>...</td>\n",
       "      <td>...</td>\n",
       "      <td>...</td>\n",
       "      <td>...</td>\n",
       "      <td>...</td>\n",
       "      <td>...</td>\n",
       "      <td>...</td>\n",
       "    </tr>\n",
       "    <tr>\n",
       "      <th>105</th>\n",
       "      <td>GTEX-ZYVF</td>\n",
       "      <td>female</td>\n",
       "      <td>Adulto</td>\n",
       "      <td>55</td>\n",
       "      <td>0.000024</td>\n",
       "      <td>1.819350e-07</td>\n",
       "      <td>0.142913</td>\n",
       "      <td>2.020577e-02</td>\n",
       "      <td>0.000032</td>\n",
       "      <td>0.095750</td>\n",
       "      <td>0.363183</td>\n",
       "      <td>0.539107</td>\n",
       "      <td>0.547407</td>\n",
       "      <td>0.106089</td>\n",
       "      <td>0.242711</td>\n",
       "    </tr>\n",
       "    <tr>\n",
       "      <th>106</th>\n",
       "      <td>GTEX-ZYW4</td>\n",
       "      <td>male</td>\n",
       "      <td>Idoso</td>\n",
       "      <td>61</td>\n",
       "      <td>0.000023</td>\n",
       "      <td>5.150542e-03</td>\n",
       "      <td>0.168872</td>\n",
       "      <td>5.422500e-02</td>\n",
       "      <td>0.000013</td>\n",
       "      <td>0.103609</td>\n",
       "      <td>0.250000</td>\n",
       "      <td>0.706623</td>\n",
       "      <td>0.785079</td>\n",
       "      <td>0.312058</td>\n",
       "      <td>0.371003</td>\n",
       "    </tr>\n",
       "    <tr>\n",
       "      <th>107</th>\n",
       "      <td>GTEX-ZYY3</td>\n",
       "      <td>female</td>\n",
       "      <td>Idoso</td>\n",
       "      <td>61</td>\n",
       "      <td>0.000003</td>\n",
       "      <td>2.070253e-07</td>\n",
       "      <td>0.071373</td>\n",
       "      <td>8.591668e-07</td>\n",
       "      <td>0.000021</td>\n",
       "      <td>0.000006</td>\n",
       "      <td>0.754844</td>\n",
       "      <td>0.472580</td>\n",
       "      <td>0.506640</td>\n",
       "      <td>0.312230</td>\n",
       "      <td>0.363262</td>\n",
       "    </tr>\n",
       "    <tr>\n",
       "      <th>108</th>\n",
       "      <td>GTEX-ZZ64</td>\n",
       "      <td>male</td>\n",
       "      <td>Jovem</td>\n",
       "      <td>24</td>\n",
       "      <td>0.000001</td>\n",
       "      <td>3.753111e-02</td>\n",
       "      <td>0.185770</td>\n",
       "      <td>2.604149e-02</td>\n",
       "      <td>0.000039</td>\n",
       "      <td>0.289014</td>\n",
       "      <td>0.354081</td>\n",
       "      <td>0.503746</td>\n",
       "      <td>0.718097</td>\n",
       "      <td>0.037088</td>\n",
       "      <td>0.377036</td>\n",
       "    </tr>\n",
       "    <tr>\n",
       "      <th>109</th>\n",
       "      <td>GTEX-ZZPU</td>\n",
       "      <td>female</td>\n",
       "      <td>Adulto</td>\n",
       "      <td>55</td>\n",
       "      <td>0.000000</td>\n",
       "      <td>1.586110e-02</td>\n",
       "      <td>0.067426</td>\n",
       "      <td>1.959858e-02</td>\n",
       "      <td>0.502779</td>\n",
       "      <td>0.581716</td>\n",
       "      <td>0.288227</td>\n",
       "      <td>0.700330</td>\n",
       "      <td>0.666243</td>\n",
       "      <td>0.043816</td>\n",
       "      <td>0.166901</td>\n",
       "    </tr>\n",
       "  </tbody>\n",
       "</table>\n",
       "<p>110 rows × 15 columns</p>\n",
       "</div>"
      ],
      "text/plain": [
       "       Amostra    Sexo Categoria Idade  Idade      MMP1          MMP3  \\\n",
       "0    GTEX-U8XE    male           Jovem     30  0.415301  1.959855e-02   \n",
       "1    GTEX-UPJH    male          Adulto     55  0.000005  7.996788e-03   \n",
       "2    GTEX-UPK5    male          Adulto     43  0.000000  7.149739e-03   \n",
       "3    GTEX-V1D1    male          Adulto     55  0.000000  0.000000e+00   \n",
       "4    GTEX-VJYA    male           Idoso     61  0.000000  1.969892e-02   \n",
       "..         ...     ...             ...    ...       ...           ...   \n",
       "105  GTEX-ZYVF  female          Adulto     55  0.000024  1.819350e-07   \n",
       "106  GTEX-ZYW4    male           Idoso     61  0.000023  5.150542e-03   \n",
       "107  GTEX-ZYY3  female           Idoso     61  0.000003  2.070253e-07   \n",
       "108  GTEX-ZZ64    male           Jovem     24  0.000001  3.753111e-02   \n",
       "109  GTEX-ZZPU  female          Adulto     55  0.000000  1.586110e-02   \n",
       "\n",
       "         MMP9         MMP11     MMP24     MMP27     BARD1     BCL7C   CLPTM1L  \\\n",
       "0    0.609227  8.821049e-02  0.000014  0.851644  0.354668  0.472280  0.910613   \n",
       "1    0.159422  3.882611e-02  0.503206  0.168324  0.491779  0.604135  0.656658   \n",
       "2    0.000003  4.746163e-02  0.000003  0.310585  0.215032  0.536110  0.690726   \n",
       "3    0.062979  1.321471e-06  0.000034  0.523176  0.488843  0.430027  0.459522   \n",
       "4    0.329350  3.710575e-02  0.444207  0.744908  0.250793  0.411447  0.618432   \n",
       "..        ...           ...       ...       ...       ...       ...       ...   \n",
       "105  0.142913  2.020577e-02  0.000032  0.095750  0.363183  0.539107  0.547407   \n",
       "106  0.168872  5.422500e-02  0.000013  0.103609  0.250000  0.706623  0.785079   \n",
       "107  0.071373  8.591668e-07  0.000021  0.000006  0.754844  0.472580  0.506640   \n",
       "108  0.185770  2.604149e-02  0.000039  0.289014  0.354081  0.503746  0.718097   \n",
       "109  0.067426  1.959858e-02  0.502779  0.581716  0.288227  0.700330  0.666243   \n",
       "\n",
       "         TERT    CDKN1A  \n",
       "0    0.456960  0.770863  \n",
       "1    0.020528  0.301729  \n",
       "2    0.000000  0.230042  \n",
       "3    0.183716  0.266740  \n",
       "4    0.223564  0.134728  \n",
       "..        ...       ...  \n",
       "105  0.106089  0.242711  \n",
       "106  0.312058  0.371003  \n",
       "107  0.312230  0.363262  \n",
       "108  0.037088  0.377036  \n",
       "109  0.043816  0.166901  \n",
       "\n",
       "[110 rows x 15 columns]"
      ]
     },
     "execution_count": 12,
     "metadata": {},
     "output_type": "execute_result"
    }
   ],
   "source": [
    "df_art"
   ]
  },
  {
   "cell_type": "markdown",
   "id": "e7e1d60b-4ac2-4302-b22d-faaccd042d23",
   "metadata": {},
   "source": [
    "**REGRESSÃO**\n",
    "<br> (para todos os algoritmos possíveis e considerando o dataset com PCA)!"
   ]
  },
  {
   "cell_type": "code",
   "execution_count": 13,
   "id": "e26af600-d666-460e-94c1-a1df73011296",
   "metadata": {},
   "outputs": [
    {
     "name": "stdout",
     "output_type": "stream",
     "text": [
      "         MMP1          MMP3      MMP9         MMP11     MMP24     MMP27  \\\n",
      "0    0.415301  1.959855e-02  0.609227  8.821049e-02  0.000014  0.851644   \n",
      "1    0.000005  7.996788e-03  0.159422  3.882611e-02  0.503206  0.168324   \n",
      "2    0.000000  7.149739e-03  0.000003  4.746163e-02  0.000003  0.310585   \n",
      "3    0.000000  0.000000e+00  0.062979  1.321471e-06  0.000034  0.523176   \n",
      "4    0.000000  1.969892e-02  0.329350  3.710575e-02  0.444207  0.744908   \n",
      "..        ...           ...       ...           ...       ...       ...   \n",
      "105  0.000024  1.819350e-07  0.142913  2.020577e-02  0.000032  0.095750   \n",
      "106  0.000023  5.150542e-03  0.168872  5.422500e-02  0.000013  0.103609   \n",
      "107  0.000003  2.070253e-07  0.071373  8.591668e-07  0.000021  0.000006   \n",
      "108  0.000001  3.753111e-02  0.185770  2.604149e-02  0.000039  0.289014   \n",
      "109  0.000000  1.586110e-02  0.067426  1.959858e-02  0.502779  0.581716   \n",
      "\n",
      "        BARD1     BCL7C   CLPTM1L      TERT    CDKN1A  \n",
      "0    0.354668  0.472280  0.910613  0.456960  0.770863  \n",
      "1    0.491779  0.604135  0.656658  0.020528  0.301729  \n",
      "2    0.215032  0.536110  0.690726  0.000000  0.230042  \n",
      "3    0.488843  0.430027  0.459522  0.183716  0.266740  \n",
      "4    0.250793  0.411447  0.618432  0.223564  0.134728  \n",
      "..        ...       ...       ...       ...       ...  \n",
      "105  0.363183  0.539107  0.547407  0.106089  0.242711  \n",
      "106  0.250000  0.706623  0.785079  0.312058  0.371003  \n",
      "107  0.754844  0.472580  0.506640  0.312230  0.363262  \n",
      "108  0.354081  0.503746  0.718097  0.037088  0.377036  \n",
      "109  0.288227  0.700330  0.666243  0.043816  0.166901  \n",
      "\n",
      "[110 rows x 11 columns]\n"
     ]
    }
   ],
   "source": [
    "# lendo o data frame\n",
    "df_art = pd.read_csv('data_artigo.csv')\n",
    "# precisamos fazer um drop pq chamamos o dataset de novo e houve a add de uma nova coluna\n",
    "df_art = df_art.drop('Unnamed: 0', axis = 1)\n",
    "# 1 representa vertical\n",
    "\n",
    "# Substituindo os intervalos dos valores das idades para a média, a fim de obter os dados em valores numéricos\n",
    "df_art['Idade']=df_art['Idade'].replace('20-29',random.randint(20, 29))\n",
    "df_art['Idade']=df_art['Idade'].replace('30-39',random.randint(30, 39))\n",
    "df_art['Idade']=df_art['Idade'].replace('40-49',random.randint(40, 49))\n",
    "df_art['Idade']=df_art['Idade'].replace('50-59',random.randint(50, 59))\n",
    "df_art['Idade']=df_art['Idade'].replace('60-69',random.randint(60, 69))\n",
    "df_art['Idade']=df_art['Idade'].replace('70-79',random.randint(70, 79))\n",
    "\n",
    "# features e target\n",
    "FEATURES = df_art.columns.values[4:]\n",
    "TARGET = [\"Idade\"]\n",
    "# lembrando que nossos dados já são normalizados\n",
    "# logo, vamos pular a fase de normalização\n",
    "\n",
    "X = df_art.reindex(df_art.columns[4:],axis=1)\n",
    "y = df_art['Idade']  #Definindo o y como o target\n",
    "\n",
    "print(X)\n",
    "pca = PCA(n_components=3) #Calculando o PCA para três componentes\n",
    "pca.fit(X)                #Ajustando o PCA\n",
    "X_pca = pca.transform(X)  #Realizando o PCA"
   ]
  },
  {
   "cell_type": "code",
   "execution_count": 14,
   "id": "e8d41998-e2fa-46bf-8ec2-effec1cb3fd8",
   "metadata": {},
   "outputs": [
    {
     "name": "stdout",
     "output_type": "stream",
     "text": [
      "0.510613403287673\n"
     ]
    }
   ],
   "source": [
    "print(np.sum(pca.explained_variance_ratio_)) #Calculando a variância explicada acumulada para as três componentes principais"
   ]
  },
  {
   "cell_type": "markdown",
   "id": "ce267198-7849-4ab2-abed-da0080f8ef01",
   "metadata": {},
   "source": [
    "> Nossa variância é de 51%, não parece ser muito alta (usando como referencial para comparação a variância explicada de 98% encontrada pelos professores)."
   ]
  },
  {
   "cell_type": "code",
   "execution_count": 15,
   "id": "23d1fbe7-7709-4d76-9883-6f1c04f7fbf2",
   "metadata": {},
   "outputs": [],
   "source": [
    "from sklearn.model_selection import train_test_split\n",
    "\n",
    "X_train, X_test, y_train, y_test = train_test_split( #Chamando a função train_test_split, atribuindo os valores nas variáveis a esquerda da igualdade\n",
    "    X_pca,                                           #Dados das componentes principais do PCA\n",
    "    y,                                               #Dados do target\n",
    "    test_size=0.2,                                   #Tamanho do conjunto de teste\n",
    "    random_state=42)                                 #Semente aleatória"
   ]
  },
  {
   "cell_type": "code",
   "execution_count": 36,
   "id": "6799920c-ef53-47c2-acfb-f63f5e9e3822",
   "metadata": {},
   "outputs": [
    {
     "name": "stdout",
     "output_type": "stream",
     "text": [
      "         PC1       PC2       PC3  Idade\n",
      "0   0.879522  0.253783  0.150340     36\n",
      "1  -0.196916  0.262684  0.020482     54\n",
      "2  -0.066678 -0.050566 -0.270894     45\n",
      "3   0.064947  0.026960 -0.044916     54\n",
      "4   0.154597  0.591225 -0.124296     61\n",
      "5  -0.022768 -0.120067  0.085756     54\n",
      "6   0.060785 -0.000146 -0.273812     45\n",
      "7  -0.019664 -0.101292 -0.185764     45\n",
      "8  -0.131899 -0.130379 -0.216412     25\n",
      "9   0.301608  0.018847 -0.238916     25\n",
      "10 -0.014558 -0.102317 -0.131316     45\n",
      "11 -0.151400 -0.124631 -0.205794     45\n",
      "          PC1     PC2     PC3   Idade\n",
      "PC1    1.0000 -0.0000  0.0000 -0.0869\n",
      "PC2   -0.0000  1.0000 -0.0000  0.0076\n",
      "PC3    0.0000 -0.0000  1.0000  0.1692\n",
      "Idade -0.0869  0.0076  0.1692  1.0000\n"
     ]
    }
   ],
   "source": [
    "# dataset para visualização dos dados e cálculo da correlação\n",
    "df_artp_train = pd.DataFrame(X_pca,columns=['PC1', 'PC2', 'PC3']) #Define as colunas das PC em um dataframe, utilizando os dados do X_pca\n",
    "df_artp_train['Idade'] = y                                        #Adiciona a coluna preço, com os dados de y\n",
    "print(df_artp_train.head(12))                                     #Exibe as 10 primeiras linhas do dataset\n",
    "corrmat = df_artp_train.corr()                                    #Cálculo da correlação\n",
    "print(round(corrmat,4))                                          #Exibe a correlação com 4 casas decimais"
   ]
  },
  {
   "cell_type": "markdown",
   "id": "397dfdfd-ccd4-4ac3-8e44-a97ad0d04d99",
   "metadata": {},
   "source": [
    "> No notebook, os professores fazem regressão linear e calculam o RMSE. Todavia, é benéfico para nós trabalhar com nossos dados como categóricos.\n",
    "> <br>Faremos regressão, mas classificação também."
   ]
  },
  {
   "cell_type": "code",
   "execution_count": 17,
   "id": "20b9f511-9522-4a39-a4b8-9b74aacfcf7a",
   "metadata": {},
   "outputs": [
    {
     "name": "stdout",
     "output_type": "stream",
     "text": [
      "O RMSE do modelo k-NN foi de 12.702397769354775 anos\n"
     ]
    }
   ],
   "source": [
    "from sklearn.neighbors import KNeighborsRegressor\n",
    "\n",
    "modelo_knn = KNeighborsRegressor()\n",
    "modelo_knn.fit(X_train, y_train)\n",
    "\n",
    "from sklearn.metrics import mean_squared_error\n",
    "y_verdadeiro = y_test\n",
    "y_previsao = modelo_knn.predict(X_test)\n",
    "\n",
    "RMSE = mean_squared_error(y_verdadeiro, y_previsao, squared=False) #Cálculo do RMSE\n",
    "\n",
    "print(f\"O RMSE do modelo k-NN foi de {RMSE} anos\")"
   ]
  },
  {
   "cell_type": "markdown",
   "id": "2f260dae-9d54-43ed-a5ac-2bf00984ecae",
   "metadata": {},
   "source": [
    "> Aqui, observamos um aumento no valor do RMSE (12.13) para data_art quando consideramos os resultados do bloco dois (11.66). Nesse sentido, concluímos que o nosso erro aumentou."
   ]
  },
  {
   "cell_type": "code",
   "execution_count": 18,
   "id": "c095fa5f-564c-4727-adeb-07dbd6599419",
   "metadata": {},
   "outputs": [
    {
     "name": "stdout",
     "output_type": "stream",
     "text": [
      "O RMSE do modelo Árvore de Decisão foi de 13.688083735995933\n"
     ]
    }
   ],
   "source": [
    "from sklearn.tree import DecisionTreeRegressor\n",
    "\n",
    "SEMENTE_ALEATORIA = 777\n",
    "modelo_dt = DecisionTreeRegressor(random_state=SEMENTE_ALEATORIA)\n",
    "modelo_dt.fit(X_train, y_train)\n",
    "\n",
    "y_verdadei = y_test\n",
    "y_previs = modelo_dt.predict(X_test)\n",
    "\n",
    "RMSE = mean_squared_error(y_verdadei, y_previs, squared=False) \n",
    "\n",
    "print(f\"O RMSE do modelo Árvore de Decisão foi de {RMSE}\")"
   ]
  },
  {
   "cell_type": "markdown",
   "id": "3cd390d8-50b5-4e75-9b8f-e2ed5c108b95",
   "metadata": {},
   "source": [
    "> Mais um aumento. No bloco dois o RMSE para os dados de artigo para o modelo de Árvore de Decisão foi de 12.24. Considerando a técnica de PCA, o RMSE correspondeu a 13.15."
   ]
  },
  {
   "cell_type": "code",
   "execution_count": 19,
   "id": "fd875e19-d20b-4747-a0bf-1db370e294f9",
   "metadata": {},
   "outputs": [
    {
     "name": "stdout",
     "output_type": "stream",
     "text": [
      "O RMSE do modelo Random Forest foi de 12.495602862971076 anos\n"
     ]
    }
   ],
   "source": [
    "from sklearn.ensemble import RandomForestRegressor\n",
    "\n",
    "SEMENTE_ALEATORIA = 777\n",
    "modelo_rf = RandomForestRegressor(random_state=SEMENTE_ALEATORIA)\n",
    "modelo_rf.fit(X_train, y_train)\n",
    "\n",
    "y_verdadeir = y_test\n",
    "y_previsa = modelo_rf.predict(X_test)\n",
    "\n",
    "RMSE = mean_squared_error(y_verdadeir, y_previsa, squared=False) \n",
    "\n",
    "print(f\"O RMSE do modelo Random Forest foi de {RMSE} anos\")"
   ]
  },
  {
   "cell_type": "markdown",
   "id": "0bf16acb-7ba7-4967-89fe-75d1ddacaf9b",
   "metadata": {},
   "source": [
    "> Mais uma vez observamos o aumento do erro. No Bloco 02, tínhamos obtido 8.98, aqui obtivemos 11.66. O aumento do erro é um problema a medida que torna nossas previcões menos confiáveis."
   ]
  },
  {
   "cell_type": "markdown",
   "id": "58b2e581-27f2-4827-8f46-ee69610c230b",
   "metadata": {},
   "source": [
    "<hr>"
   ]
  },
  {
   "cell_type": "markdown",
   "id": "4d83a28d-7a5a-4344-93b4-4db118dd70e4",
   "metadata": {},
   "source": [
    "**CLASSIFICAÇÃO**"
   ]
  },
  {
   "cell_type": "code",
   "execution_count": 20,
   "id": "eee8b8d3-be02-4efe-a0f7-24e03bbbcd7b",
   "metadata": {},
   "outputs": [
    {
     "name": "stdout",
     "output_type": "stream",
     "text": [
      "         MMP1          MMP3      MMP9         MMP11     MMP24     MMP27  \\\n",
      "0    0.415301  1.959855e-02  0.609227  8.821049e-02  0.000014  0.851644   \n",
      "1    0.000005  7.996788e-03  0.159422  3.882611e-02  0.503206  0.168324   \n",
      "2    0.000000  7.149739e-03  0.000003  4.746163e-02  0.000003  0.310585   \n",
      "3    0.000000  0.000000e+00  0.062979  1.321471e-06  0.000034  0.523176   \n",
      "4    0.000000  1.969892e-02  0.329350  3.710575e-02  0.444207  0.744908   \n",
      "..        ...           ...       ...           ...       ...       ...   \n",
      "105  0.000024  1.819350e-07  0.142913  2.020577e-02  0.000032  0.095750   \n",
      "106  0.000023  5.150542e-03  0.168872  5.422500e-02  0.000013  0.103609   \n",
      "107  0.000003  2.070253e-07  0.071373  8.591668e-07  0.000021  0.000006   \n",
      "108  0.000001  3.753111e-02  0.185770  2.604149e-02  0.000039  0.289014   \n",
      "109  0.000000  1.586110e-02  0.067426  1.959858e-02  0.502779  0.581716   \n",
      "\n",
      "        BARD1     BCL7C   CLPTM1L      TERT    CDKN1A  \n",
      "0    0.354668  0.472280  0.910613  0.456960  0.770863  \n",
      "1    0.491779  0.604135  0.656658  0.020528  0.301729  \n",
      "2    0.215032  0.536110  0.690726  0.000000  0.230042  \n",
      "3    0.488843  0.430027  0.459522  0.183716  0.266740  \n",
      "4    0.250793  0.411447  0.618432  0.223564  0.134728  \n",
      "..        ...       ...       ...       ...       ...  \n",
      "105  0.363183  0.539107  0.547407  0.106089  0.242711  \n",
      "106  0.250000  0.706623  0.785079  0.312058  0.371003  \n",
      "107  0.754844  0.472580  0.506640  0.312230  0.363262  \n",
      "108  0.354081  0.503746  0.718097  0.037088  0.377036  \n",
      "109  0.288227  0.700330  0.666243  0.043816  0.166901  \n",
      "\n",
      "[110 rows x 11 columns]\n"
     ]
    }
   ],
   "source": [
    "# lendo o data frame\n",
    "# vou criar um novo df para não dar problema com a regressão\n",
    "df_artc = pd.read_csv('data_artigo.csv')\n",
    "# precisamos fazer um drop pq chamamos o dataset de novo e houve a add de uma nova coluna\n",
    "df_artc = df_artc.drop('Unnamed: 0', axis = 1)\n",
    "# 1 representa vertical\n",
    "\n",
    "# features e target\n",
    "FEATURES = df_artc.columns.values[4:]\n",
    "TARGET = [\"Idade\"]\n",
    "# lembrando que nossos dados já são normalizados\n",
    "# logo, vamos pular a fase de normalização\n",
    "\n",
    "X_2 = df_artc.reindex(df_artc.columns[4:],axis=1)\n",
    "y_2 = df_artc['Idade']  #Definindo o y como o target\n",
    "\n",
    "print(X)\n",
    "pca2 = PCA(n_components=3) #Calculando o PCA para três componentes\n",
    "pca2.fit(X_2)                #Ajustando o PCA\n",
    "X_pca2 = pca2.transform(X_2)  #Realizando o PCA"
   ]
  },
  {
   "cell_type": "code",
   "execution_count": 21,
   "id": "c6b2a1b7-ca1d-4b13-a8e3-5f7a075b2af7",
   "metadata": {},
   "outputs": [],
   "source": [
    "from sklearn.model_selection import train_test_split\n",
    "\n",
    "X_traino, X_testi, y_traino, y_testi = train_test_split( #Chamando a função train_test_split, atribuindo os valores nas variáveis a esquerda da igualdade\n",
    "    X_pca2,                                           #Dados das componentes principais do PCA\n",
    "    y_2,                                               #Dados do target\n",
    "    test_size=0.2,                                   #Tamanho do conjunto de teste\n",
    "    random_state=42)                                 #Semente aleatória"
   ]
  },
  {
   "cell_type": "code",
   "execution_count": 22,
   "id": "dc4b5661-f712-47f0-98d8-e7c069bdde69",
   "metadata": {},
   "outputs": [
    {
     "name": "stdout",
     "output_type": "stream",
     "text": [
      "         PC1       PC2       PC3  Idade\n",
      "0   0.879522  0.253783  0.150340  30-39\n",
      "1  -0.196916  0.262684  0.020482  50-59\n",
      "2  -0.066678 -0.050566 -0.270894  40-49\n",
      "3   0.064947  0.026960 -0.044916  50-59\n",
      "4   0.154597  0.591225 -0.124296  60-69\n",
      "5  -0.022768 -0.120067  0.085756  50-59\n",
      "6   0.060785 -0.000146 -0.273812  40-49\n",
      "7  -0.019664 -0.101292 -0.185764  40-49\n",
      "8  -0.131899 -0.130379 -0.216412  20-29\n",
      "9   0.301608  0.018847 -0.238916  20-29\n",
      "10 -0.014558 -0.102317 -0.131316  40-49\n",
      "11 -0.151400 -0.124631 -0.205794  40-49\n",
      "     PC1  PC2  PC3\n",
      "PC1  1.0 -0.0  0.0\n",
      "PC2 -0.0  1.0 -0.0\n",
      "PC3  0.0 -0.0  1.0\n"
     ]
    }
   ],
   "source": [
    "# dataset para visualização dos dados e cálculo da correlação\n",
    "df_artcp_train = pd.DataFrame(X_pca2,columns=['PC1', 'PC2', 'PC3']) #Define as colunas das PC em um dataframe, utilizando os dados do X_pca\n",
    "df_artcp_train['Idade'] = y_2                                        #Adiciona a coluna preço, com os dados de y\n",
    "print(df_artcp_train.head(12))                                     #Exibe as 10 primeiras linhas do dataset\n",
    "corrmat = df_artcp_train.corr()                                    #Cálculo da correlação\n",
    "print(round(corrmat,4))                                          #Exibe a correlação com 4 casas decimais\n",
    "\n",
    "# não sei porque não tá aparecendo idade embaixo da matriz com as componentes :("
   ]
  },
  {
   "cell_type": "markdown",
   "id": "9e8e7887-099e-40f3-8a64-8a636175effe",
   "metadata": {},
   "source": [
    "**1. k-NN com PCA**\n",
    "> Todavia, sabemos que classificação é a melhor estratégia para lidar com os nossos dados. Então, vamos usar aqui.\n",
    "> Relembrando que k-NN foi o método que escolhemos utilizar para a classificação realizada no Bloco 02."
   ]
  },
  {
   "cell_type": "code",
   "execution_count": 23,
   "id": "95f6c147-953a-4c7b-a783-a3fcef7a600c",
   "metadata": {},
   "outputs": [
    {
     "name": "stdout",
     "output_type": "stream",
     "text": [
      "['50-59' '50-59' '40-49' '40-49' '60-69' '50-59' '50-59' '50-59' '60-69'\n",
      " '50-59' '50-59' '40-49' '50-59' '50-59' '50-59' '40-49' '50-59' '50-59'\n",
      " '40-49' '40-49' '40-49' '50-59']\n"
     ]
    }
   ],
   "source": [
    "from sklearn.neighbors import KNeighborsClassifier\n",
    "\n",
    "# para criar e treinar o modelo\n",
    "modelo_artcp_knn = KNeighborsClassifier()\n",
    "modelo_artcp_knn.fit(X_traino, y_traino)\n",
    "\n",
    "# para realizar uma previsão usando o modelo treinado\n",
    "previsao_knnartc = modelo_artcp_knn.predict(X_testi)\n",
    "print(previsao_knnartc)"
   ]
  },
  {
   "cell_type": "code",
   "execution_count": 24,
   "id": "8d974ed4-831c-42da-9da3-39c2d4c2071e",
   "metadata": {},
   "outputs": [
    {
     "name": "stdout",
     "output_type": "stream",
     "text": [
      "Accuracy: 0.13636363636363635\n",
      "A acurácia do método de k-NN para o dataset com PCA é, em porcentagem: 13.636363636363635\n",
      "\n",
      "Precision: 0.08391608391608392\n",
      "A precisão da precisão em classificação para k-NN em PCA: 8.391608391608392\n"
     ]
    },
    {
     "name": "stderr",
     "output_type": "stream",
     "text": [
      "c:\\venv\\ilumpy\\lib\\site-packages\\sklearn\\metrics\\_classification.py:1248: UndefinedMetricWarning: Precision is ill-defined and being set to 0.0 in labels with no predicted samples. Use `zero_division` parameter to control this behavior.\n",
      "  _warn_prf(average, modifier, msg_start, len(result))\n",
      "c:\\venv\\ilumpy\\lib\\site-packages\\sklearn\\metrics\\_classification.py:1248: UndefinedMetricWarning: Precision is ill-defined and being set to 0.0 in labels with no predicted samples. Use `zero_division` parameter to control this behavior.\n",
      "  _warn_prf(average, modifier, msg_start, len(result))\n"
     ]
    }
   ],
   "source": [
    "from sklearn import metrics\n",
    "\n",
    "print(\"Accuracy:\",metrics.accuracy_score(y_testi, previsao_knnartc))\n",
    "print('A acurácia do método de k-NN para o dataset com PCA é, em porcentagem:', (metrics.accuracy_score(y_testi, previsao_knnartc) * 100))\n",
    "\n",
    "print()\n",
    "\n",
    "# precisão\n",
    "print(\"Precision:\",metrics.precision_score(y_testi, previsao_knnartc, average='weighted'))\n",
    "print('A precisão da precisão em classificação para k-NN em PCA:', (metrics.precision_score(y_testi, previsao_knnartc, average='weighted') * 100))\n"
   ]
  },
  {
   "cell_type": "markdown",
   "id": "6c106529-a2f0-4414-a49a-5aaff26bfece",
   "metadata": {},
   "source": [
    "> Percebe-se que a acurácia e a precisão com o dataset após o processo de redução de dimensionalidades caiu muito. No notebook anterior, tinhamos obtido acurácia de 82%, aproximadamente (resultado do Bloco 02), para o k-NN aplicado nos dados obtidos de artigos. Além disso, a precisão antes era de 67% e aqui passou a ser de, aproximadamente, 9%. Como aqui nos apoiamos nas três componentes principais, conseguimos perceber pelos gráficos de variância explicada e acumulada que perdemos muitos dados, o que pode explicar a nossa redução brusca de acurácia e de precisão."
   ]
  },
  {
   "cell_type": "markdown",
   "id": "43e72629-aa52-45a5-8523-4a4f635372ed",
   "metadata": {},
   "source": [
    "**Comentário Geral**"
   ]
  },
  {
   "cell_type": "markdown",
   "id": "865e824f-303a-4139-8fa9-11758fdbe04f",
   "metadata": {},
   "source": [
    "> Acreditamos que todas as variações que foram observadas tanto no contexto da regressão, quanto da classificação se devem ao fato de termos perdido uma quantidade significativa de dados ao selecionarmos somente as três primeiras componentes. Sendo assim, a redução de dimensionalidades com PCA não parece uma estratégia vantajosa considerando a natureza dos nossos dados."
   ]
  },
  {
   "cell_type": "markdown",
   "id": "7d320879-f03a-45cb-836a-89a017fa49e7",
   "metadata": {},
   "source": [
    "<hr>"
   ]
  },
  {
   "cell_type": "markdown",
   "id": "bb3f6332-7411-44e4-997b-384945d460aa",
   "metadata": {},
   "source": [
    "**PCA COM 6 COMPONENTES**"
   ]
  },
  {
   "cell_type": "markdown",
   "id": "ae55a1ba-906a-4616-bd27-b59274a00535",
   "metadata": {},
   "source": [
    "**REGRESSÃO**"
   ]
  },
  {
   "cell_type": "code",
   "execution_count": 77,
   "id": "9ce54a58-021c-4468-bfc7-50cd48c7f4c3",
   "metadata": {},
   "outputs": [
    {
     "name": "stdout",
     "output_type": "stream",
     "text": [
      "         MMP1          MMP3      MMP9         MMP11     MMP24     MMP27  \\\n",
      "0    0.415301  1.959855e-02  0.609227  8.821049e-02  0.000014  0.851644   \n",
      "1    0.000005  7.996788e-03  0.159422  3.882611e-02  0.503206  0.168324   \n",
      "2    0.000000  7.149739e-03  0.000003  4.746163e-02  0.000003  0.310585   \n",
      "3    0.000000  0.000000e+00  0.062979  1.321471e-06  0.000034  0.523176   \n",
      "4    0.000000  1.969892e-02  0.329350  3.710575e-02  0.444207  0.744908   \n",
      "..        ...           ...       ...           ...       ...       ...   \n",
      "105  0.000024  1.819350e-07  0.142913  2.020577e-02  0.000032  0.095750   \n",
      "106  0.000023  5.150542e-03  0.168872  5.422500e-02  0.000013  0.103609   \n",
      "107  0.000003  2.070253e-07  0.071373  8.591668e-07  0.000021  0.000006   \n",
      "108  0.000001  3.753111e-02  0.185770  2.604149e-02  0.000039  0.289014   \n",
      "109  0.000000  1.586110e-02  0.067426  1.959858e-02  0.502779  0.581716   \n",
      "\n",
      "        BARD1     BCL7C   CLPTM1L      TERT    CDKN1A  \n",
      "0    0.354668  0.472280  0.910613  0.456960  0.770863  \n",
      "1    0.491779  0.604135  0.656658  0.020528  0.301729  \n",
      "2    0.215032  0.536110  0.690726  0.000000  0.230042  \n",
      "3    0.488843  0.430027  0.459522  0.183716  0.266740  \n",
      "4    0.250793  0.411447  0.618432  0.223564  0.134728  \n",
      "..        ...       ...       ...       ...       ...  \n",
      "105  0.363183  0.539107  0.547407  0.106089  0.242711  \n",
      "106  0.250000  0.706623  0.785079  0.312058  0.371003  \n",
      "107  0.754844  0.472580  0.506640  0.312230  0.363262  \n",
      "108  0.354081  0.503746  0.718097  0.037088  0.377036  \n",
      "109  0.288227  0.700330  0.666243  0.043816  0.166901  \n",
      "\n",
      "[110 rows x 11 columns]\n"
     ]
    }
   ],
   "source": [
    "# lendo o data frame\n",
    "dfart_mc = pd.read_csv('data_artigo.csv')\n",
    "# precisamos fazer um drop pq chamamos o dataset de novo e houve a add de uma nova coluna\n",
    "dfart_mc = dfart_mc.drop('Unnamed: 0', axis = 1)\n",
    "# 1 representa vertical\n",
    "\n",
    "# Substituindo os intervalos dos valores das idades para a média, a fim de obter os dados em valores numéricos\n",
    "dfart_mc['Idade']=dfart_mc['Idade'].replace('20-29',random.randint(20, 29))\n",
    "dfart_mc['Idade']=dfart_mc['Idade'].replace('30-39',random.randint(30, 39))\n",
    "dfart_mc['Idade']=dfart_mc['Idade'].replace('40-49',random.randint(40, 49))\n",
    "dfart_mc['Idade']=dfart_mc['Idade'].replace('50-59',random.randint(50, 59))\n",
    "dfart_mc['Idade']=dfart_mc['Idade'].replace('60-69',random.randint(60, 69))\n",
    "dfart_mc['Idade']=dfart_mc['Idade'].replace('70-79',random.randint(70, 79))\n",
    "\n",
    "# features e target\n",
    "FEATURES = dfart_mc.columns.values[4:]\n",
    "TARGET = [\"Idade\"]\n",
    "# lembrando que nossos dados já são normalizados\n",
    "# logo, vamos pular a fase de normalização\n",
    "\n",
    "Xt = dfart_mc.reindex(dfart_mc.columns[4:],axis=1)\n",
    "y_3 = dfart_mc['Idade']  #Definindo o y como o target\n",
    "\n",
    "print(Xt)\n",
    "pcat = PCA(n_components=6) #Calculando o PCA para seis componentes\n",
    "pcat.fit(Xt)                #Ajustando o PCA\n",
    "X_pcat = pcat.transform(Xt)  #Realizando o PCA"
   ]
  },
  {
   "cell_type": "code",
   "execution_count": 78,
   "id": "7b5c1ec1-58e5-4b29-b95d-dd5fe23a9d88",
   "metadata": {},
   "outputs": [
    {
     "name": "stdout",
     "output_type": "stream",
     "text": [
      "0.8045363161395231\n"
     ]
    }
   ],
   "source": [
    "print(np.sum(pcat.explained_variance_ratio_)) #Calculando a variância explicada acumulada para as três componentes principais"
   ]
  },
  {
   "cell_type": "markdown",
   "id": "2f06cc53-292a-4534-824a-5b9a7cec4774",
   "metadata": {},
   "source": [
    "> Com um aumento do número de componentes, também observamos o aumento da variância."
   ]
  },
  {
   "cell_type": "code",
   "execution_count": 79,
   "id": "bea9aa06-684a-4b23-9d73-79d85384609d",
   "metadata": {},
   "outputs": [],
   "source": [
    "from sklearn.model_selection import train_test_split\n",
    "\n",
    "Xt_train, Xt_test, y_3_train, y_3_test = train_test_split( #Chamando a função train_test_split, atribuindo os valores nas variáveis a esquerda da igualdade\n",
    "    X_pcat,                                           #Dados das componentes principais do PCA\n",
    "    y_3,                                               #Dados do target\n",
    "    test_size=0.2,                                   #Tamanho do conjunto de teste\n",
    "    random_state=42)                                 #Semente aleatória"
   ]
  },
  {
   "cell_type": "code",
   "execution_count": 80,
   "id": "f8157241-4357-4225-8823-8a894363af83",
   "metadata": {},
   "outputs": [
    {
     "name": "stdout",
     "output_type": "stream",
     "text": [
      "         PC1       PC2       PC3       PC4       PC5       PC6  Idade\n",
      "0   0.879522  0.253783  0.150340 -0.183007 -0.296346 -0.186086     37\n",
      "1  -0.196916  0.262684  0.020482  0.288690 -0.065944  0.118016     56\n",
      "2  -0.066678 -0.050566 -0.270894 -0.037376  0.011547 -0.031981     45\n",
      "3   0.064947  0.026960 -0.044916 -0.162745 -0.156258  0.185135     56\n",
      "4   0.154597  0.591225 -0.124296 -0.152663 -0.011883  0.077236     63\n",
      "5  -0.022768 -0.120067  0.085756 -0.019813 -0.186581  0.126382     56\n",
      "6   0.060785 -0.000146 -0.273812 -0.087313 -0.002685  0.071923     45\n",
      "7  -0.019664 -0.101292 -0.185764  0.035197 -0.062384  0.012823     45\n",
      "8  -0.131899 -0.130379 -0.216412  0.014073  0.043201 -0.126824     20\n",
      "9   0.301608  0.018847 -0.238916 -0.004403  0.062857  0.026357     20\n",
      "10 -0.014558 -0.102317 -0.131316  0.015541 -0.001984 -0.054169     45\n",
      "11 -0.151400 -0.124631 -0.205794  0.004873  0.062714 -0.109219     45\n",
      "          PC1     PC2     PC3     PC4     PC5    PC6   Idade\n",
      "PC1    1.0000 -0.0000  0.0000  0.0000  0.0000 -0.000 -0.0876\n",
      "PC2   -0.0000  1.0000 -0.0000  0.0000  0.0000 -0.000  0.0051\n",
      "PC3    0.0000 -0.0000  1.0000 -0.0000 -0.0000  0.000  0.1821\n",
      "PC4    0.0000  0.0000 -0.0000  1.0000  0.0000 -0.000 -0.0566\n",
      "PC5    0.0000  0.0000 -0.0000  0.0000  1.0000  0.000  0.0616\n",
      "PC6   -0.0000 -0.0000  0.0000 -0.0000  0.0000  1.000  0.0770\n",
      "Idade -0.0876  0.0051  0.1821 -0.0566  0.0616  0.077  1.0000\n"
     ]
    }
   ],
   "source": [
    "# dataset para visualização dos dados e cálculo da correlação\n",
    "dfart_mc_train = pd.DataFrame(X_pcat,columns=['PC1', 'PC2', 'PC3', 'PC4', 'PC5', 'PC6']) #Define as colunas das PC em um dataframe, utilizando os dados do X_pca\n",
    "dfart_mc_train['Idade'] = y_3                                        #Adiciona a coluna preço, com os dados de y\n",
    "print(dfart_mc_train.head(12))                                     #Exibe as 10 primeiras linhas do dataset\n",
    "corrmat = dfart_mc_train.corr()                                    #Cálculo da correlação\n",
    "print(round(corrmat,4))                                          #Exibe a correlação com 4 casas decimais"
   ]
  },
  {
   "cell_type": "markdown",
   "id": "ecf504f6-2fe3-4cf0-a4de-b362d7026171",
   "metadata": {},
   "source": [
    "> Cáluclos de RMSE para todos os algoritmos"
   ]
  },
  {
   "cell_type": "code",
   "execution_count": 82,
   "id": "7c719dae-2306-4235-9d59-472a03948a3e",
   "metadata": {},
   "outputs": [
    {
     "name": "stdout",
     "output_type": "stream",
     "text": [
      "O RMSE do modelo k-NN foi de 15.393564180585932 anos\n"
     ]
    }
   ],
   "source": [
    "from sklearn.neighbors import KNeighborsRegressor\n",
    "\n",
    "modelo_knnt = KNeighborsRegressor()\n",
    "modelo_knnt.fit(Xt_train, y_3_train)\n",
    "\n",
    "from sklearn.metrics import mean_squared_error\n",
    "y_3_verdadeiro = y_3_test\n",
    "y_3_previsao = modelo_knnt.predict(Xt_test)\n",
    "\n",
    "RMSE = mean_squared_error(y_3_verdadeiro, y_3_previsao, squared=False) #Cálculo do RMSE\n",
    "\n",
    "print(f\"O RMSE do modelo k-NN foi de {RMSE} anos\")"
   ]
  },
  {
   "cell_type": "markdown",
   "id": "01457ef5-a378-4de3-bd3e-45eb91f4ebae",
   "metadata": {},
   "source": [
    "> Aqui, observamos um aumento no valor do RMSE. Para três componentes, obtivemos 12.13; para data_art no bloco dois, 11.66; agora, com seis componentes, temos 15.39. Nesse sentido, concluímos que o nosso continua erro aumentando."
   ]
  },
  {
   "cell_type": "code",
   "execution_count": 91,
   "id": "01b98c5f-0fcc-4cb1-a428-b9b3516afc72",
   "metadata": {},
   "outputs": [
    {
     "name": "stdout",
     "output_type": "stream",
     "text": [
      "O RMSE do modelo Árvore de Decisão foi de 19.183326093250876\n"
     ]
    }
   ],
   "source": [
    "from sklearn.tree import DecisionTreeRegressor\n",
    "\n",
    "SEMENTE_ALEATORIA = 777\n",
    "modelo_dtt = DecisionTreeRegressor(random_state=SEMENTE_ALEATORIA)\n",
    "modelo_dtt.fit(Xt_train, y_3_train)\n",
    "\n",
    "y_verdadei_3 = y_3_test\n",
    "y_previs_3 = modelo_dtt.predict(Xt_test)\n",
    "\n",
    "RMSE = mean_squared_error(y_verdadei_3, y_previs_3, squared=False) \n",
    "\n",
    "print(f\"O RMSE do modelo Árvore de Decisão foi de {RMSE}\")"
   ]
  },
  {
   "cell_type": "markdown",
   "id": "f753b6ce-5b8c-4c7d-a487-204d52d438ba",
   "metadata": {},
   "source": [
    "> Mais um aumento. No bloco dois o RMSE para os dados de artigo para o modelo de Árvore de Decisão foi de 12.24. Considerando a técnica de PCA, o RMSE correspondeu a 13.15 para três componentes. Para 6, aumentou para 19.18."
   ]
  },
  {
   "cell_type": "code",
   "execution_count": 118,
   "id": "26615e36-0bde-4ba7-ac7b-17dc076e99ff",
   "metadata": {},
   "outputs": [
    {
     "name": "stdout",
     "output_type": "stream",
     "text": [
      "O RMSE do modelo Random Forest foi de 15.129210608500484 anos\n"
     ]
    }
   ],
   "source": [
    "from sklearn.ensemble import RandomForestRegressor\n",
    "\n",
    "SEMENTE_ALEATORIA = 777\n",
    "modelo_rft = RandomForestRegressor(random_state=SEMENTE_ALEATORIA)\n",
    "modelo_rft.fit(Xt_train, y_3_train)\n",
    "\n",
    "y_verdadeir_3 = y_3_test\n",
    "y_previsa_3 = modelo_rft.predict(Xt_test)\n",
    "\n",
    "RMSE = mean_squared_error(y_verdadeir_3, y_previsa_3, squared=False) \n",
    "\n",
    "print(f\"O RMSE do modelo Random Forest foi de {RMSE} anos\")"
   ]
  },
  {
   "cell_type": "markdown",
   "id": "a6fbd65b-6336-4f2a-86a7-21eaa7611e3e",
   "metadata": {},
   "source": [
    "> Mais uma vez observamos o aumento do erro. No Bloco 02, tínhamos obtido 8.98, com três componentes obtivemos 11.66. Aqui, o resultado foi 15.12. O aumento do erro é um problema a medida que torna nossas previsões menos confiáveis."
   ]
  },
  {
   "cell_type": "markdown",
   "id": "2dba3e0e-cb20-4319-80db-adb27cf7a999",
   "metadata": {},
   "source": [
    "**CLASSIFICAÇÃO**"
   ]
  },
  {
   "cell_type": "code",
   "execution_count": 88,
   "id": "46274d07-e79a-4771-bc78-60fc58d943d1",
   "metadata": {},
   "outputs": [
    {
     "name": "stdout",
     "output_type": "stream",
     "text": [
      "         MMP1          MMP3      MMP9         MMP11     MMP24     MMP27  \\\n",
      "0    0.415301  1.959855e-02  0.609227  8.821049e-02  0.000014  0.851644   \n",
      "1    0.000005  7.996788e-03  0.159422  3.882611e-02  0.503206  0.168324   \n",
      "2    0.000000  7.149739e-03  0.000003  4.746163e-02  0.000003  0.310585   \n",
      "3    0.000000  0.000000e+00  0.062979  1.321471e-06  0.000034  0.523176   \n",
      "4    0.000000  1.969892e-02  0.329350  3.710575e-02  0.444207  0.744908   \n",
      "..        ...           ...       ...           ...       ...       ...   \n",
      "105  0.000024  1.819350e-07  0.142913  2.020577e-02  0.000032  0.095750   \n",
      "106  0.000023  5.150542e-03  0.168872  5.422500e-02  0.000013  0.103609   \n",
      "107  0.000003  2.070253e-07  0.071373  8.591668e-07  0.000021  0.000006   \n",
      "108  0.000001  3.753111e-02  0.185770  2.604149e-02  0.000039  0.289014   \n",
      "109  0.000000  1.586110e-02  0.067426  1.959858e-02  0.502779  0.581716   \n",
      "\n",
      "        BARD1     BCL7C   CLPTM1L      TERT    CDKN1A  \n",
      "0    0.354668  0.472280  0.910613  0.456960  0.770863  \n",
      "1    0.491779  0.604135  0.656658  0.020528  0.301729  \n",
      "2    0.215032  0.536110  0.690726  0.000000  0.230042  \n",
      "3    0.488843  0.430027  0.459522  0.183716  0.266740  \n",
      "4    0.250793  0.411447  0.618432  0.223564  0.134728  \n",
      "..        ...       ...       ...       ...       ...  \n",
      "105  0.363183  0.539107  0.547407  0.106089  0.242711  \n",
      "106  0.250000  0.706623  0.785079  0.312058  0.371003  \n",
      "107  0.754844  0.472580  0.506640  0.312230  0.363262  \n",
      "108  0.354081  0.503746  0.718097  0.037088  0.377036  \n",
      "109  0.288227  0.700330  0.666243  0.043816  0.166901  \n",
      "\n",
      "[110 rows x 11 columns]\n"
     ]
    }
   ],
   "source": [
    "# lendo o data frame\n",
    "# vou criar um novo df para não dar problema com a regressão e com a classificação\n",
    "dfa_mc = pd.read_csv('data_artigo.csv')\n",
    "# precisamos fazer um drop pq chamamos o dataset de novo e houve a add de uma nova coluna\n",
    "dfa_mc = dfa_mc.drop('Unnamed: 0', axis = 1)\n",
    "# 1 representa vertical\n",
    "\n",
    "# features e target\n",
    "FEATURES = dfa_mc.columns.values[4:]\n",
    "TARGET = [\"Idade\"]\n",
    "# lembrando que nossos dados já são normalizados\n",
    "# logo, vamos pular a fase de normalização\n",
    "\n",
    "X_4 = dfa_mc.reindex(dfa_mc.columns[4:],axis=1)\n",
    "y_4 = dfa_mc['Idade']  #Definindo o y como o target\n",
    "\n",
    "print(X_4)\n",
    "pcaq = PCA(n_components=6) #Calculando o PCA para seis componentes\n",
    "pcaq.fit(X_4)                #Ajustando o PCA\n",
    "X_pcaq = pcaq.transform(X_4)  #Realizando o PCA"
   ]
  },
  {
   "cell_type": "code",
   "execution_count": 89,
   "id": "9b68f70a-0ada-444f-82c0-0796ff8599b7",
   "metadata": {},
   "outputs": [],
   "source": [
    "from sklearn.model_selection import train_test_split\n",
    "\n",
    "Xq_train, Xq_test, y_4_train, y_4_test = train_test_split( #Chamando a função train_test_split, atribuindo os valores nas variáveis a esquerda da igualdade\n",
    "    X_pcaq,                                           #Dados das componentes principais do PCA\n",
    "    y_4,                                               #Dados do target\n",
    "    test_size=0.2,                                   #Tamanho do conjunto de teste\n",
    "    random_state=42)                                 #Semente aleatória"
   ]
  },
  {
   "cell_type": "code",
   "execution_count": 92,
   "id": "cebddd02-e4dd-4345-b47b-40a06e11c6eb",
   "metadata": {},
   "outputs": [
    {
     "name": "stdout",
     "output_type": "stream",
     "text": [
      "         PC1       PC2       PC3       PC4       PC5       PC6  Idade\n",
      "0   0.879522  0.253783  0.150340 -0.183007 -0.296346 -0.186086  30-39\n",
      "1  -0.196916  0.262684  0.020482  0.288690 -0.065944  0.118016  50-59\n",
      "2  -0.066678 -0.050566 -0.270894 -0.037376  0.011547 -0.031981  40-49\n",
      "3   0.064947  0.026960 -0.044916 -0.162745 -0.156258  0.185135  50-59\n",
      "4   0.154597  0.591225 -0.124296 -0.152663 -0.011883  0.077236  60-69\n",
      "5  -0.022768 -0.120067  0.085756 -0.019813 -0.186581  0.126382  50-59\n",
      "6   0.060785 -0.000146 -0.273812 -0.087313 -0.002685  0.071923  40-49\n",
      "7  -0.019664 -0.101292 -0.185764  0.035197 -0.062384  0.012823  40-49\n",
      "8  -0.131899 -0.130379 -0.216412  0.014073  0.043201 -0.126824  20-29\n",
      "9   0.301608  0.018847 -0.238916 -0.004403  0.062857  0.026357  20-29\n",
      "10 -0.014558 -0.102317 -0.131316  0.015541 -0.001984 -0.054169  40-49\n",
      "11 -0.151400 -0.124631 -0.205794  0.004873  0.062714 -0.109219  40-49\n",
      "     PC1  PC2  PC3  PC4  PC5  PC6\n",
      "PC1  1.0 -0.0  0.0  0.0  0.0 -0.0\n",
      "PC2 -0.0  1.0 -0.0  0.0  0.0 -0.0\n",
      "PC3  0.0 -0.0  1.0 -0.0 -0.0  0.0\n",
      "PC4  0.0  0.0 -0.0  1.0  0.0 -0.0\n",
      "PC5  0.0  0.0 -0.0  0.0  1.0  0.0\n",
      "PC6 -0.0 -0.0  0.0 -0.0  0.0  1.0\n"
     ]
    }
   ],
   "source": [
    "# dataset para visualização dos dados e cálculo da correlação\n",
    "dfa_mc_train = pd.DataFrame(X_pcaq,columns=['PC1', 'PC2', 'PC3', 'PC4', 'PC5', 'PC6']) #Define as colunas das PC em um dataframe, utilizando os dados do X_pca\n",
    "dfa_mc_train['Idade'] = y_4                                        #Adiciona a coluna preço, com os dados de y\n",
    "print(dfa_mc_train.head(12))                                     #Exibe as 10 primeiras linhas do dataset\n",
    "corrmat = dfa_mc_train.corr()                                    #Cálculo da correlação\n",
    "print(round(corrmat,4))                                          #Exibe a correlação com 4 casas decimais"
   ]
  },
  {
   "cell_type": "markdown",
   "id": "efc7b772-ca8b-4603-b18d-789c0bdd8400",
   "metadata": {},
   "source": [
    "**1. k-NN com PCA**\n",
    "> Relembrando que k-NN foi o método que escolhemos utilizar para a classificação realizada no Bloco 02."
   ]
  },
  {
   "cell_type": "code",
   "execution_count": 94,
   "id": "d7919ab6-e731-42c2-b113-facebe071287",
   "metadata": {},
   "outputs": [
    {
     "name": "stdout",
     "output_type": "stream",
     "text": [
      "['40-49' '40-49' '40-49' '20-29' '60-69' '50-59' '40-49' '20-29' '40-49'\n",
      " '20-29' '40-49' '40-49' '60-69' '50-59' '50-59' '50-59' '50-59' '40-49'\n",
      " '60-69' '40-49' '40-49' '50-59']\n"
     ]
    }
   ],
   "source": [
    "from sklearn.neighbors import KNeighborsClassifier\n",
    "\n",
    "# para criar e treinar o modelo\n",
    "modelo_arq_knn = KNeighborsClassifier()\n",
    "modelo_arq_knn.fit(Xq_train, y_4_train)\n",
    "\n",
    "# para realizar uma previsão usando o modelo treinado\n",
    "previsao_knnartq = modelo_arq_knn.predict(Xq_test)\n",
    "print(previsao_knnartq)"
   ]
  },
  {
   "cell_type": "code",
   "execution_count": 95,
   "id": "a5e6a77a-532b-4845-b92b-791315d963c6",
   "metadata": {},
   "outputs": [
    {
     "name": "stdout",
     "output_type": "stream",
     "text": [
      "Accuracy: 0.18181818181818182\n",
      "A acurácia do método de k-NN para o dataset com PCA é, em porcentagem: 18.181818181818183\n",
      "\n",
      "Precision: 0.1575757575757576\n",
      "A precisão da precisão em classificação para k-NN em PCA: 15.75757575757576\n"
     ]
    },
    {
     "name": "stderr",
     "output_type": "stream",
     "text": [
      "c:\\venv\\ilumpy\\lib\\site-packages\\sklearn\\metrics\\_classification.py:1248: UndefinedMetricWarning: Precision is ill-defined and being set to 0.0 in labels with no predicted samples. Use `zero_division` parameter to control this behavior.\n",
      "  _warn_prf(average, modifier, msg_start, len(result))\n",
      "c:\\venv\\ilumpy\\lib\\site-packages\\sklearn\\metrics\\_classification.py:1248: UndefinedMetricWarning: Precision is ill-defined and being set to 0.0 in labels with no predicted samples. Use `zero_division` parameter to control this behavior.\n",
      "  _warn_prf(average, modifier, msg_start, len(result))\n"
     ]
    }
   ],
   "source": [
    "from sklearn import metrics\n",
    "Xq_train, Xq_test, y_4_train, y_4_test\n",
    "\n",
    "print(\"Accuracy:\",metrics.accuracy_score(y_4_test, previsao_knnartq))\n",
    "print('A acurácia do método de k-NN para o dataset com PCA é, em porcentagem:', (metrics.accuracy_score(y_4_test, previsao_knnartq) * 100))\n",
    "\n",
    "print()\n",
    "\n",
    "# precisão\n",
    "print(\"Precision:\",metrics.precision_score(y_4_test, previsao_knnartq, average='weighted'))\n",
    "print('A precisão da precisão em classificação para k-NN em PCA:', (metrics.precision_score(y_4_test, previsao_knnartq, average='weighted') * 100))\n"
   ]
  },
  {
   "cell_type": "markdown",
   "id": "f4128c96-6ec1-4b0a-bb56-ce7f0dbaef73",
   "metadata": {},
   "source": [
    "> Percebe-se que a acurácia e a precisão com o dataset após o processo de redução de dimensionalidades caiu muito. No notebook anterior, tinhamos obtido acurácia de 82%, aproximadamente (resultado do Bloco 02), para o k-NN aplicado nos dados obtidos de artigos. Além disso, a precisão antes era de 67% e com três componentes passou a ser de, aproximadamente, 9%. Como aqui nos apoiamos nas três componentes principais, conseguimos perceber pelos gráficos de variância explicada e acumulada que perdemos muitos dados, o que pode explicar a nossa redução brusca de acurácia e de precisão. Com 6 componentes, observamos um aumento para acurária e para precisão, que, respectivamente, passaram a asusmir os valores de 18% e 16%, ainda assim, os valores são mínimos quando comparados aos bo bloco 2."
   ]
  },
  {
   "cell_type": "markdown",
   "id": "c8ce5df9-11cc-49d5-a1bb-b0a3a6b99d10",
   "metadata": {},
   "source": [
    "**Comentário geral - 6 componentes**"
   ]
  },
  {
   "cell_type": "markdown",
   "id": "943b2cba-e570-4192-9722-37d63a40fc90",
   "metadata": {},
   "source": [
    "> Para 6 componentes, obtivemos:\n",
    ">1. Um aumento nos valores de RMSE da regressão, o que não é positivo pois indica um aumento da chance de erro. Mas talvez isso aconteça justamente porque agora ele trabalha com mais dados;\n",
    ">2. Aumento da acurária e precisão da classificação. Isso é ótimo, para a classificação o nosso modelo está mais correto e é justamente esse que entedemos como mais postivo para o nosso trabalho."
   ]
  },
  {
   "cell_type": "markdown",
   "id": "6249d8cd-f612-4576-9063-dc6659a9ba91",
   "metadata": {},
   "source": [
    "<hr>"
   ]
  },
  {
   "cell_type": "markdown",
   "id": "c2848426-656d-4765-83cd-df32ababec8b",
   "metadata": {},
   "source": [
    "**PCA PARA NOVE COMPONENTES**"
   ]
  },
  {
   "cell_type": "markdown",
   "id": "9338612e-ab1c-4823-a341-139329f24ba1",
   "metadata": {},
   "source": [
    "**REGRESSÃO**"
   ]
  },
  {
   "cell_type": "code",
   "execution_count": 106,
   "id": "3b1b9e6c-810e-4c65-9a4f-2c7119fa2155",
   "metadata": {},
   "outputs": [
    {
     "name": "stdout",
     "output_type": "stream",
     "text": [
      "         MMP1          MMP3      MMP9         MMP11     MMP24     MMP27  \\\n",
      "0    0.415301  1.959855e-02  0.609227  8.821049e-02  0.000014  0.851644   \n",
      "1    0.000005  7.996788e-03  0.159422  3.882611e-02  0.503206  0.168324   \n",
      "2    0.000000  7.149739e-03  0.000003  4.746163e-02  0.000003  0.310585   \n",
      "3    0.000000  0.000000e+00  0.062979  1.321471e-06  0.000034  0.523176   \n",
      "4    0.000000  1.969892e-02  0.329350  3.710575e-02  0.444207  0.744908   \n",
      "..        ...           ...       ...           ...       ...       ...   \n",
      "105  0.000024  1.819350e-07  0.142913  2.020577e-02  0.000032  0.095750   \n",
      "106  0.000023  5.150542e-03  0.168872  5.422500e-02  0.000013  0.103609   \n",
      "107  0.000003  2.070253e-07  0.071373  8.591668e-07  0.000021  0.000006   \n",
      "108  0.000001  3.753111e-02  0.185770  2.604149e-02  0.000039  0.289014   \n",
      "109  0.000000  1.586110e-02  0.067426  1.959858e-02  0.502779  0.581716   \n",
      "\n",
      "        BARD1     BCL7C   CLPTM1L      TERT    CDKN1A  \n",
      "0    0.354668  0.472280  0.910613  0.456960  0.770863  \n",
      "1    0.491779  0.604135  0.656658  0.020528  0.301729  \n",
      "2    0.215032  0.536110  0.690726  0.000000  0.230042  \n",
      "3    0.488843  0.430027  0.459522  0.183716  0.266740  \n",
      "4    0.250793  0.411447  0.618432  0.223564  0.134728  \n",
      "..        ...       ...       ...       ...       ...  \n",
      "105  0.363183  0.539107  0.547407  0.106089  0.242711  \n",
      "106  0.250000  0.706623  0.785079  0.312058  0.371003  \n",
      "107  0.754844  0.472580  0.506640  0.312230  0.363262  \n",
      "108  0.354081  0.503746  0.718097  0.037088  0.377036  \n",
      "109  0.288227  0.700330  0.666243  0.043816  0.166901  \n",
      "\n",
      "[110 rows x 11 columns]\n"
     ]
    }
   ],
   "source": [
    "# lendo o data frame\n",
    "dfart_nc = pd.read_csv('data_artigo.csv')\n",
    "# precisamos fazer um drop pq chamamos o dataset de novo e houve a add de uma nova coluna\n",
    "dfart_nc = dfart_nc.drop('Unnamed: 0', axis = 1)\n",
    "# 1 representa vertical\n",
    "\n",
    "# Substituindo os intervalos dos valores das idades para a média, a fim de obter os dados em valores numéricos\n",
    "dfart_nc['Idade']=dfart_nc['Idade'].replace('20-29',random.randint(20, 29))\n",
    "dfart_nc['Idade']=dfart_nc['Idade'].replace('30-39',random.randint(30, 39))\n",
    "dfart_nc['Idade']=dfart_nc['Idade'].replace('40-49',random.randint(40, 49))\n",
    "dfart_nc['Idade']=dfart_nc['Idade'].replace('50-59',random.randint(50, 59))\n",
    "dfart_nc['Idade']=dfart_nc['Idade'].replace('60-69',random.randint(60, 69))\n",
    "dfart_nc['Idade']=dfart_nc['Idade'].replace('70-79',random.randint(70, 79))\n",
    "\n",
    "# features e target\n",
    "FEATURES = dfart_nc.columns.values[4:]\n",
    "TARGET = [\"Idade\"]\n",
    "# lembrando que nossos dados já são normalizados\n",
    "# logo, vamos pular a fase de normalização\n",
    "\n",
    "Xc = dfart_nc.reindex(dfart_mc.columns[4:],axis=1)\n",
    "y_5 = dfart_mc['Idade']  #Definindo o y como o target\n",
    "\n",
    "print(Xc)\n",
    "pcac = PCA(n_components=9) #Calculando o PCA para seis componentes\n",
    "pcac.fit(Xc)                #Ajustando o PCA\n",
    "X_pcac = pcac.transform(Xc)  #Realizando o PCA"
   ]
  },
  {
   "cell_type": "code",
   "execution_count": 107,
   "id": "1271cc81-0e92-44a4-a857-b92e4e830589",
   "metadata": {},
   "outputs": [
    {
     "name": "stdout",
     "output_type": "stream",
     "text": [
      "0.9552060494339174\n"
     ]
    }
   ],
   "source": [
    "print(np.sum(pcac.explained_variance_ratio_)) #Calculando a variância explicada acumulada para as nove componentes principais"
   ]
  },
  {
   "cell_type": "markdown",
   "id": "843fc5db-ba48-4c30-a33e-0bf475585a68",
   "metadata": {},
   "source": [
    "> Com um aumento do número de componentes, também observamos o aumento da variância. Atingindo agora 95,5%. (Com 10 componentes, atingiriamos 98% e com 11 atingiríamos 100%)."
   ]
  },
  {
   "cell_type": "code",
   "execution_count": 108,
   "id": "c22ef767-33ca-4066-8a18-83b8ab45754d",
   "metadata": {},
   "outputs": [],
   "source": [
    "from sklearn.model_selection import train_test_split\n",
    "\n",
    "Xc_train, Xc_test, y_5_train, y_5_test = train_test_split( #Chamando a função train_test_split, atribuindo os valores nas variáveis a esquerda da igualdade\n",
    "    X_pcac,                                           #Dados das componentes principais do PCA\n",
    "    y_5,                                               #Dados do target\n",
    "    test_size=0.2,                                   #Tamanho do conjunto de teste\n",
    "    random_state=42)                                 #Semente aleatória"
   ]
  },
  {
   "cell_type": "code",
   "execution_count": 109,
   "id": "6830e797-a8db-4bb1-98b6-c74ae5851b69",
   "metadata": {},
   "outputs": [
    {
     "name": "stdout",
     "output_type": "stream",
     "text": [
      "         PC1       PC2       PC3       PC4       PC5       PC6       PC7  \\\n",
      "0   0.879522  0.253783  0.150340 -0.183007 -0.296346 -0.186086  0.108504   \n",
      "1  -0.196916  0.262684  0.020482  0.288690 -0.065944  0.118016  0.000865   \n",
      "2  -0.066678 -0.050566 -0.270894 -0.037376  0.011547 -0.031981 -0.126551   \n",
      "3   0.064947  0.026960 -0.044916 -0.162745 -0.156258  0.185135 -0.045292   \n",
      "4   0.154597  0.591225 -0.124296 -0.152663 -0.011883  0.077236  0.028727   \n",
      "5  -0.022768 -0.120067  0.085756 -0.019813 -0.186581  0.126382  0.003642   \n",
      "6   0.060785 -0.000146 -0.273812 -0.087313 -0.002685  0.071923  0.019671   \n",
      "7  -0.019664 -0.101292 -0.185764  0.035197 -0.062384  0.012823  0.019468   \n",
      "8  -0.131899 -0.130379 -0.216412  0.014073  0.043201 -0.126824  0.019085   \n",
      "9   0.301608  0.018847 -0.238916 -0.004403  0.062857  0.026357  0.177780   \n",
      "10 -0.014558 -0.102317 -0.131316  0.015541 -0.001984 -0.054169  0.082121   \n",
      "11 -0.151400 -0.124631 -0.205794  0.004873  0.062714 -0.109219 -0.009353   \n",
      "\n",
      "         PC8       PC9  Idade  \n",
      "0   0.113853 -0.167620     37  \n",
      "1   0.085074  0.006598     56  \n",
      "2  -0.056635 -0.118512     45  \n",
      "3  -0.245656 -0.111120     56  \n",
      "4  -0.189959  0.039831     63  \n",
      "5   0.059406 -0.091318     56  \n",
      "6  -0.102703  0.180928     45  \n",
      "7  -0.126304  0.075949     45  \n",
      "8   0.097945  0.067916     20  \n",
      "9  -0.260539  0.097844     20  \n",
      "10  0.004896  0.048805     45  \n",
      "11 -0.005871 -0.028802     45  \n",
      "          PC1     PC2     PC3     PC4     PC5    PC6     PC7     PC8     PC9  \\\n",
      "PC1    1.0000 -0.0000  0.0000  0.0000  0.0000 -0.000  0.0000  0.0000  0.0000   \n",
      "PC2   -0.0000  1.0000 -0.0000  0.0000  0.0000 -0.000  0.0000 -0.0000  0.0000   \n",
      "PC3    0.0000 -0.0000  1.0000 -0.0000 -0.0000  0.000 -0.0000 -0.0000 -0.0000   \n",
      "PC4    0.0000  0.0000 -0.0000  1.0000  0.0000 -0.000  0.0000 -0.0000  0.0000   \n",
      "PC5    0.0000  0.0000 -0.0000  0.0000  1.0000  0.000 -0.0000  0.0000 -0.0000   \n",
      "PC6   -0.0000 -0.0000  0.0000 -0.0000  0.0000  1.000 -0.0000  0.0000  0.0000   \n",
      "PC7    0.0000  0.0000 -0.0000  0.0000 -0.0000 -0.000  1.0000  0.0000  0.0000   \n",
      "PC8    0.0000 -0.0000 -0.0000 -0.0000  0.0000  0.000  0.0000  1.0000  0.0000   \n",
      "PC9    0.0000  0.0000 -0.0000  0.0000 -0.0000  0.000  0.0000  0.0000  1.0000   \n",
      "Idade -0.0876  0.0051  0.1821 -0.0566  0.0616  0.077 -0.0168 -0.0034  0.0892   \n",
      "\n",
      "        Idade  \n",
      "PC1   -0.0876  \n",
      "PC2    0.0051  \n",
      "PC3    0.1821  \n",
      "PC4   -0.0566  \n",
      "PC5    0.0616  \n",
      "PC6    0.0770  \n",
      "PC7   -0.0168  \n",
      "PC8   -0.0034  \n",
      "PC9    0.0892  \n",
      "Idade  1.0000  \n"
     ]
    }
   ],
   "source": [
    "# dataset para visualização dos dados e cálculo da correlação\n",
    "dfart_nc_train = pd.DataFrame(X_pcac,columns=['PC1', 'PC2', 'PC3', 'PC4', 'PC5', 'PC6', 'PC7', 'PC8', 'PC9']) #Define as colunas das PC em um dataframe, utilizando os dados do X_pca\n",
    "dfart_nc_train['Idade'] = y_5                                        #Adiciona a coluna preço, com os dados de y\n",
    "print(dfart_nc_train.head(12))                                     #Exibe as 10 primeiras linhas do dataset\n",
    "corrmat = dfart_nc_train.corr()                                    #Cálculo da correlação\n",
    "print(round(corrmat,4))                                          #Exibe a correlação com 4 casas decimais"
   ]
  },
  {
   "cell_type": "markdown",
   "id": "270d1b5e-867f-4eec-98c8-2a85528750da",
   "metadata": {},
   "source": [
    "> Cáluclos de RMSE para todos os algoritmos"
   ]
  },
  {
   "cell_type": "code",
   "execution_count": 112,
   "id": "b7128ea8-76da-40d5-bef5-74edf3118907",
   "metadata": {},
   "outputs": [
    {
     "name": "stdout",
     "output_type": "stream",
     "text": [
      "O RMSE do modelo k-NN foi de 15.69487467006637 anos\n"
     ]
    }
   ],
   "source": [
    "from sklearn.neighbors import KNeighborsRegressor\n",
    "\n",
    "modelo_knnc = KNeighborsRegressor()\n",
    "modelo_knnc.fit(Xc_train, y_5_train)\n",
    "\n",
    "from sklearn.metrics import mean_squared_error\n",
    "y_5_verdadeiro = y_5_test\n",
    "y_5_previsao = modelo_knnc.predict(Xc_test)\n",
    "\n",
    "RMSE = mean_squared_error(y_5_verdadeiro, y_5_previsao, squared=False) #Cálculo do RMSE\n",
    "\n",
    "print(f\"O RMSE do modelo k-NN foi de {RMSE} anos\")"
   ]
  },
  {
   "cell_type": "markdown",
   "id": "82c4c503-0cd8-4a9c-acf2-f3a5bf6a6c25",
   "metadata": {},
   "source": [
    "> Aqui, observamos um aumento no valor do RMSE. Para três componentes, obtivemos 12.13; para data_art no bloco dois, 11.66; agora, com seis componentes, temos 15.39. Com nove componentes, concluímos que o nosso erro segue aumentando."
   ]
  },
  {
   "cell_type": "code",
   "execution_count": 113,
   "id": "b18642a5-d24c-435e-81ac-30acee7c7212",
   "metadata": {},
   "outputs": [
    {
     "name": "stdout",
     "output_type": "stream",
     "text": [
      "O RMSE do modelo Árvore de Decisão foi de 20.322401432901575\n"
     ]
    }
   ],
   "source": [
    "from sklearn.tree import DecisionTreeRegressor\n",
    "Xc_train, Xc_test, y_5_train, y_5_test\n",
    "\n",
    "SEMENTE_ALEATORIA = 777\n",
    "modelo_dtc = DecisionTreeRegressor(random_state=SEMENTE_ALEATORIA)\n",
    "modelo_dtc.fit(Xc_train, y_5_train)\n",
    "\n",
    "y_verdadei_5 = y_5_test\n",
    "y_previs_5 = modelo_dtc.predict(Xc_test)\n",
    "\n",
    "RMSE = mean_squared_error(y_verdadei_5, y_previs_5, squared=False) \n",
    "\n",
    "print(f\"O RMSE do modelo Árvore de Decisão foi de {RMSE}\")"
   ]
  },
  {
   "cell_type": "markdown",
   "id": "d4dee808-f8e0-4dcd-b5ca-1143da59a8f6",
   "metadata": {},
   "source": [
    "> Mais um aumento. No bloco dois o RMSE para os dados de artigo para o modelo de Árvore de Decisão foi de 12.24. Considerando a técnica de PCA, o RMSE correspondeu a 13.15 para três componentes. Para 6, aumentou para 19.18. Para 9, aumentou para 20.32."
   ]
  },
  {
   "cell_type": "code",
   "execution_count": 117,
   "id": "c5777f55-f321-4f25-9ea5-9d6b93e599f7",
   "metadata": {},
   "outputs": [
    {
     "name": "stdout",
     "output_type": "stream",
     "text": [
      "O RMSE do modelo Random Forest foi de 15.030092088268061 anos\n"
     ]
    }
   ],
   "source": [
    "from sklearn.ensemble import RandomForestRegressor\n",
    "Xc_train, Xc_test, y_5_train, y_5_test\n",
    "\n",
    "SEMENTE_ALEATORIA = 777\n",
    "modelo_rfc = RandomForestRegressor(random_state=SEMENTE_ALEATORIA)\n",
    "modelo_rfc.fit(Xc_train, y_5_train)\n",
    "\n",
    "y_verdadeir_5 = y_5_test\n",
    "y_previsa_5 = modelo_rfc.predict(Xc_test)\n",
    "\n",
    "RMSE = mean_squared_error(y_verdadeir_5, y_previsa_5, squared=False) \n",
    "\n",
    "print(f\"O RMSE do modelo Random Forest foi de {RMSE} anos\")"
   ]
  },
  {
   "cell_type": "markdown",
   "id": "f6676325-3adf-4042-8635-66ca491ce411",
   "metadata": {},
   "source": [
    "> Pela primeira vez, observamos uma queda!. No Bloco 02, tínhamos obtido 8.98, com três componentes obtivemos 11.66. Aqui, o resultado foi 15.12. Para 9 componentes, 15.03. A diminuição do erro é uma vantagem a medida que torna nossas previsões mais confiáveis. Assim, dentre os modelos de regressão, a floresta aleatória foi o melhor."
   ]
  },
  {
   "cell_type": "markdown",
   "id": "6e9f459e-dc92-48f7-865a-9ae3c9f0b661",
   "metadata": {},
   "source": [
    "**CLASSIFICAÇÃO**"
   ]
  },
  {
   "cell_type": "code",
   "execution_count": 119,
   "id": "d4ac6ea7-545e-420d-a81f-07a0764a4cc9",
   "metadata": {},
   "outputs": [
    {
     "name": "stdout",
     "output_type": "stream",
     "text": [
      "         MMP1          MMP3      MMP9         MMP11     MMP24     MMP27  \\\n",
      "0    0.415301  1.959855e-02  0.609227  8.821049e-02  0.000014  0.851644   \n",
      "1    0.000005  7.996788e-03  0.159422  3.882611e-02  0.503206  0.168324   \n",
      "2    0.000000  7.149739e-03  0.000003  4.746163e-02  0.000003  0.310585   \n",
      "3    0.000000  0.000000e+00  0.062979  1.321471e-06  0.000034  0.523176   \n",
      "4    0.000000  1.969892e-02  0.329350  3.710575e-02  0.444207  0.744908   \n",
      "..        ...           ...       ...           ...       ...       ...   \n",
      "105  0.000024  1.819350e-07  0.142913  2.020577e-02  0.000032  0.095750   \n",
      "106  0.000023  5.150542e-03  0.168872  5.422500e-02  0.000013  0.103609   \n",
      "107  0.000003  2.070253e-07  0.071373  8.591668e-07  0.000021  0.000006   \n",
      "108  0.000001  3.753111e-02  0.185770  2.604149e-02  0.000039  0.289014   \n",
      "109  0.000000  1.586110e-02  0.067426  1.959858e-02  0.502779  0.581716   \n",
      "\n",
      "        BARD1     BCL7C   CLPTM1L      TERT    CDKN1A  \n",
      "0    0.354668  0.472280  0.910613  0.456960  0.770863  \n",
      "1    0.491779  0.604135  0.656658  0.020528  0.301729  \n",
      "2    0.215032  0.536110  0.690726  0.000000  0.230042  \n",
      "3    0.488843  0.430027  0.459522  0.183716  0.266740  \n",
      "4    0.250793  0.411447  0.618432  0.223564  0.134728  \n",
      "..        ...       ...       ...       ...       ...  \n",
      "105  0.363183  0.539107  0.547407  0.106089  0.242711  \n",
      "106  0.250000  0.706623  0.785079  0.312058  0.371003  \n",
      "107  0.754844  0.472580  0.506640  0.312230  0.363262  \n",
      "108  0.354081  0.503746  0.718097  0.037088  0.377036  \n",
      "109  0.288227  0.700330  0.666243  0.043816  0.166901  \n",
      "\n",
      "[110 rows x 11 columns]\n"
     ]
    }
   ],
   "source": [
    "# lendo o data frame\n",
    "# vou criar um novo df para não dar problema com a regressão e com a classificação\n",
    "dfa_ncc = pd.read_csv('data_artigo.csv')\n",
    "# precisamos fazer um drop pq chamamos o dataset de novo e houve a add de uma nova coluna\n",
    "dfa_ncc = dfa_ncc.drop('Unnamed: 0', axis = 1)\n",
    "# 1 representa vertical\n",
    "\n",
    "# features e target\n",
    "FEATURES = dfa_ncc.columns.values[4:]\n",
    "TARGET = [\"Idade\"]\n",
    "# lembrando que nossos dados já são normalizados\n",
    "# logo, vamos pular a fase de normalização\n",
    "\n",
    "Xc_5 = dfa_ncc.reindex(dfa_ncc.columns[4:],axis=1)\n",
    "yc_5 = dfa_ncc['Idade']  #Definindo o y como o target\n",
    "\n",
    "print(Xc_5)\n",
    "pcacc = PCA(n_components=9) #Calculando o PCA para seis componentes\n",
    "pcacc.fit(Xc_5)                #Ajustando o PCA\n",
    "X_pcacc = pcacc.transform(Xc_5)  #Realizando o PCA"
   ]
  },
  {
   "cell_type": "code",
   "execution_count": 123,
   "id": "ce83bd66-3d1d-4798-a690-feed9725293e",
   "metadata": {},
   "outputs": [],
   "source": [
    "from sklearn.model_selection import train_test_split\n",
    "\n",
    "Xcc_train, Xcc_test, yc_5_train, yc_5_test = train_test_split( #Chamando a função train_test_split, atribuindo os valores nas variáveis a esquerda da igualdade\n",
    "    X_pcacc,                                           #Dados das componentes principais do PCA\n",
    "    yc_5,                                               #Dados do target\n",
    "    test_size=0.2,                                   #Tamanho do conjunto de teste\n",
    "    random_state=42)                                 #Semente aleatória"
   ]
  },
  {
   "cell_type": "code",
   "execution_count": 124,
   "id": "55049a8b-d91d-438c-82b8-d535f5089ef5",
   "metadata": {},
   "outputs": [
    {
     "name": "stdout",
     "output_type": "stream",
     "text": [
      "         PC1       PC2       PC3       PC4       PC5       PC6       PC7  \\\n",
      "0   0.879522  0.253783  0.150340 -0.183007 -0.296346 -0.186086  0.108504   \n",
      "1  -0.196916  0.262684  0.020482  0.288690 -0.065944  0.118016  0.000865   \n",
      "2  -0.066678 -0.050566 -0.270894 -0.037376  0.011547 -0.031981 -0.126551   \n",
      "3   0.064947  0.026960 -0.044916 -0.162745 -0.156258  0.185135 -0.045292   \n",
      "4   0.154597  0.591225 -0.124296 -0.152663 -0.011883  0.077236  0.028727   \n",
      "5  -0.022768 -0.120067  0.085756 -0.019813 -0.186581  0.126382  0.003642   \n",
      "6   0.060785 -0.000146 -0.273812 -0.087313 -0.002685  0.071923  0.019671   \n",
      "7  -0.019664 -0.101292 -0.185764  0.035197 -0.062384  0.012823  0.019468   \n",
      "8  -0.131899 -0.130379 -0.216412  0.014073  0.043201 -0.126824  0.019085   \n",
      "9   0.301608  0.018847 -0.238916 -0.004403  0.062857  0.026357  0.177780   \n",
      "10 -0.014558 -0.102317 -0.131316  0.015541 -0.001984 -0.054169  0.082121   \n",
      "11 -0.151400 -0.124631 -0.205794  0.004873  0.062714 -0.109219 -0.009353   \n",
      "\n",
      "         PC8       PC9  Idade  \n",
      "0   0.113853 -0.167620  30-39  \n",
      "1   0.085074  0.006598  50-59  \n",
      "2  -0.056635 -0.118512  40-49  \n",
      "3  -0.245656 -0.111120  50-59  \n",
      "4  -0.189959  0.039831  60-69  \n",
      "5   0.059406 -0.091318  50-59  \n",
      "6  -0.102703  0.180928  40-49  \n",
      "7  -0.126304  0.075949  40-49  \n",
      "8   0.097945  0.067916  20-29  \n",
      "9  -0.260539  0.097844  20-29  \n",
      "10  0.004896  0.048805  40-49  \n",
      "11 -0.005871 -0.028802  40-49  \n",
      "     PC1  PC2  PC3  PC4  PC5  PC6  PC7  PC8  PC9\n",
      "PC1  1.0 -0.0  0.0  0.0  0.0 -0.0  0.0  0.0  0.0\n",
      "PC2 -0.0  1.0 -0.0  0.0  0.0 -0.0  0.0 -0.0  0.0\n",
      "PC3  0.0 -0.0  1.0 -0.0 -0.0  0.0 -0.0 -0.0 -0.0\n",
      "PC4  0.0  0.0 -0.0  1.0  0.0 -0.0  0.0 -0.0  0.0\n",
      "PC5  0.0  0.0 -0.0  0.0  1.0  0.0 -0.0  0.0 -0.0\n",
      "PC6 -0.0 -0.0  0.0 -0.0  0.0  1.0 -0.0  0.0  0.0\n",
      "PC7  0.0  0.0 -0.0  0.0 -0.0 -0.0  1.0  0.0  0.0\n",
      "PC8  0.0 -0.0 -0.0 -0.0  0.0  0.0  0.0  1.0  0.0\n",
      "PC9  0.0  0.0 -0.0  0.0 -0.0  0.0  0.0  0.0  1.0\n"
     ]
    }
   ],
   "source": [
    "# dataset para visualização dos dados e cálculo da correlação\n",
    "dfa_ncc_train = pd.DataFrame(X_pcacc,columns=['PC1', 'PC2', 'PC3', 'PC4', 'PC5', 'PC6', 'PC7', 'PC8', 'PC9']) #Define as colunas das PC em um dataframe, utilizando os dados do X_pca\n",
    "dfa_ncc_train['Idade'] = yc_5                                       #Adiciona a coluna preço, com os dados de y\n",
    "print(dfa_ncc_train.head(12))                                     #Exibe as 10 primeiras linhas do dataset\n",
    "corrmat = dfa_ncc_train.corr()                                    #Cálculo da correlação\n",
    "print(round(corrmat,4))                                          #Exibe a correlação com 4 casas decimais"
   ]
  },
  {
   "cell_type": "markdown",
   "id": "1e7e543b-8d0f-466f-aa7e-96b3833b0793",
   "metadata": {},
   "source": [
    "**1. k-NN com PCA**\n",
    "> Relembrando que k-NN foi o método que escolhemos utilizar para a classificação realizada no Bloco 02."
   ]
  },
  {
   "cell_type": "code",
   "execution_count": 128,
   "id": "5cf412bd-8442-4a16-8cae-200d3a41a223",
   "metadata": {},
   "outputs": [
    {
     "name": "stdout",
     "output_type": "stream",
     "text": [
      "['40-49' '40-49' '50-59' '40-49' '60-69' '50-59' '50-59' '20-29' '50-59'\n",
      " '40-49' '50-59' '40-49' '60-69' '20-29' '50-59' '50-59' '40-49' '50-59'\n",
      " '60-69' '40-49' '40-49' '50-59']\n"
     ]
    }
   ],
   "source": [
    "from sklearn.neighbors import KNeighborsClassifier\n",
    "\n",
    "# para criar e treinar o modelo\n",
    "modelo_c_knn = KNeighborsClassifier()\n",
    "modelo_c_knn.fit(Xcc_train, yc_5_train)\n",
    "\n",
    "# para realizar uma previsão usando o modelo treinado\n",
    "previsao_c_knn = modelo_c_knn.predict(Xcc_test)\n",
    "print(previsao_c_knn)"
   ]
  },
  {
   "cell_type": "code",
   "execution_count": 130,
   "id": "cbbc2efa-9a9c-41ca-959d-7a4314ecc0a5",
   "metadata": {},
   "outputs": [
    {
     "name": "stdout",
     "output_type": "stream",
     "text": [
      "Accuracy: 0.2727272727272727\n",
      "A acurácia do método de k-NN para o dataset com PCA é, em porcentagem: 27.27272727272727\n",
      "\n",
      "Precision: 0.18939393939393936\n",
      "A precisão da precisão em classificação para k-NN em PCA: 18.939393939393938\n"
     ]
    },
    {
     "name": "stderr",
     "output_type": "stream",
     "text": [
      "c:\\venv\\ilumpy\\lib\\site-packages\\sklearn\\metrics\\_classification.py:1248: UndefinedMetricWarning: Precision is ill-defined and being set to 0.0 in labels with no predicted samples. Use `zero_division` parameter to control this behavior.\n",
      "  _warn_prf(average, modifier, msg_start, len(result))\n",
      "c:\\venv\\ilumpy\\lib\\site-packages\\sklearn\\metrics\\_classification.py:1248: UndefinedMetricWarning: Precision is ill-defined and being set to 0.0 in labels with no predicted samples. Use `zero_division` parameter to control this behavior.\n",
      "  _warn_prf(average, modifier, msg_start, len(result))\n"
     ]
    }
   ],
   "source": [
    "from sklearn import metrics\n",
    "Xq_train, Xq_test, y_4_train, y_4_test\n",
    "\n",
    "print(\"Accuracy:\",metrics.accuracy_score(yc_5_test, previsao_c_knn))\n",
    "print('A acurácia do método de k-NN para o dataset com PCA é, em porcentagem:', (metrics.accuracy_score(y_4_test, previsao_c_knn) * 100))\n",
    "\n",
    "print()\n",
    "\n",
    "# precisão\n",
    "print(\"Precision:\",metrics.precision_score(yc_5_test, previsao_c_knn, average='weighted'))\n",
    "print('A precisão da precisão em classificação para k-NN em PCA:', (metrics.precision_score(yc_5_test, previsao_c_knn, average='weighted') * 100))\n"
   ]
  },
  {
   "cell_type": "markdown",
   "id": "cab56736-9c41-4853-bc5e-c6bf10e55dd2",
   "metadata": {},
   "source": [
    "> Percebe-se que a acurácia e a precisão com o dataset após o processo de redução de dimensionalidades caiu muito. No notebook anterior, tinhamos obtido acurácia de 82%, aproximadamente (resultado do Bloco 02), para o k-NN aplicado nos dados obtidos de artigos. Além disso, a precisão antes era de 67% e com três componentes passou a ser de, aproximadamente, 9%. Como aqui nos apoiamos nas três componentes principais, conseguimos perceber pelos gráficos de variância explicada e acumulada que perdemos muitos dados, o que pode explicar a nossa redução brusca de acurácia e de precisão. Com 6 componentes, observamos um aumento para acurária e para precisão, que, respectivamente, passaram a asusmir os valores de 18% e 16%, ainda assim, os valores são mínimos quando comparados aos bo bloco 2. Com 9 componentes, acompanhamos mais um aumento, 27% de acurácia e 19% de precisão."
   ]
  },
  {
   "cell_type": "markdown",
   "id": "71fc58bf-917e-4ac9-a5e7-dd7a1d75bc47",
   "metadata": {},
   "source": [
    "**Comentário geral - 9 componentes**"
   ]
  },
  {
   "cell_type": "markdown",
   "id": "98217ef4-dad5-4853-8671-c12e94bfad24",
   "metadata": {},
   "source": [
    "> Para 9 componentes, obtivemos:\n",
    ">1. Um aumento nos valores de RMSE da regressão, o que não é positivo pois indica um aumento da chance de erro. Mas talvez isso aconteça justamente porque agora ele trabalha com mais dados. Todavia, obtivemos também uma diminuição do RMSE para floresta de decisão;\n",
    ">2. Aumento da acurária e precisão da classificação. Isso é ótimo, para a classificação o nosso modelo está mais correto e é justamente esse que entedemos como mais postivo para o nosso trabalho. Quanto mais componentes, mais dados temos."
   ]
  }
 ],
 "metadata": {
  "kernelspec": {
   "display_name": "ilumpy",
   "language": "python",
   "name": "ilumpy"
  },
  "language_info": {
   "codemirror_mode": {
    "name": "ipython",
    "version": 3
   },
   "file_extension": ".py",
   "mimetype": "text/x-python",
   "name": "python",
   "nbconvert_exporter": "python",
   "pygments_lexer": "ipython3",
   "version": "3.9.7"
  }
 },
 "nbformat": 4,
 "nbformat_minor": 5
}
